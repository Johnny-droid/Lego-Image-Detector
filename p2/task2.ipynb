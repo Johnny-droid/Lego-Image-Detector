{
 "cells": [
  {
   "cell_type": "markdown",
   "metadata": {},
   "source": [
    "# VC Project 2"
   ]
  },
  {
   "cell_type": "markdown",
   "metadata": {},
   "source": [
    "## Imports"
   ]
  },
  {
   "cell_type": "code",
   "execution_count": 27,
   "metadata": {},
   "outputs": [],
   "source": [
    "import cv2\n",
    "import numpy as np\n",
    "np.random.seed(42)\n",
    "import ast\n",
    "from sklearn.cluster import KMeans\n",
    "from collections import Counter\n",
    "import matplotlib.pyplot as plt\n",
    "import pandas as pd\n",
    "from mnist import MNIST\n",
    "import warnings\n",
    "from IPython.display import display, Image\n",
    "import os\n",
    "import json\n",
    "import sys\n",
    "import torch\n",
    "from torch import nn\n",
    "from tqdm import tqdm\n",
    "from torchsummary import summary\n",
    "from torch.utils.data import Dataset, DataLoader\n",
    "from torch.utils.data.sampler import SubsetRandomSampler\n",
    "import torch.nn.functional as F\n",
    "from torchvision import datasets, transforms, models\n",
    "import torchvision.transforms as transforms\n",
    "from sklearn.metrics import accuracy_score, mean_squared_error, confusion_matrix\n",
    "from sklearn.model_selection import train_test_split\n",
    "from tqdm import tqdm\n",
    "from PIL import Image\n",
    "\n",
    "# ======================== Suppress Warnings ========================\n",
    "\n",
    "warnings.filterwarnings(\"ignore\", category=UserWarning)\n",
    "warnings.filterwarnings(\"ignore\", category=RuntimeWarning)"
   ]
  },
  {
   "cell_type": "code",
   "execution_count": 2,
   "metadata": {},
   "outputs": [],
   "source": [
    "# Mount Google Drive\n",
    "# from google.colab import drive\n",
    "# drive.mount('/content/drive')"
   ]
  },
  {
   "cell_type": "markdown",
   "metadata": {},
   "source": [
    "## Defining functions"
   ]
  },
  {
   "cell_type": "code",
   "execution_count": 28,
   "metadata": {},
   "outputs": [],
   "source": [
    "def get_file_names(directory):\n",
    "    file_names = []\n",
    "    for filename in os.listdir(directory):\n",
    "        if os.path.isfile(os.path.join(directory, filename)):\n",
    "            file_names.append(filename)\n",
    "    return file_names\n",
    "\n",
    "def loadImage(num, imgLoadSizeRatio = 1, dataDir = 'data/imgs', standardSize = -1):\n",
    "    img = cv2.imread(os.path.join(dataDir, f'{num}'))\n",
    "    if standardSize > 0:\n",
    "        img = cv2.resize(img, (standardSize, standardSize))\n",
    "    elif imgLoadSizeRatio != 1:\n",
    "        img = cv2.resize(img, (0, 0), fx = imgLoadSizeRatio, fy = imgLoadSizeRatio)\n",
    "    return img\n",
    "\n",
    "def render(image):\n",
    "    if image.dtype == np.float64:\n",
    "        image = cv2.convertScaleAbs(image)\n",
    "    if len(image.shape) == 3 and image.shape[2] == 3: # BGR or RGB\n",
    "        if np.array_equal(image[:, :, 0], image[:, :, 2]):\n",
    "            image = cv2.cvtColor(image, cv2.COLOR_BGR2RGB)\n",
    "    img_bytes = cv2.imencode('.png', image)[1].tobytes()\n",
    "    display(Image(data=img_bytes))\n",
    "\n",
    "df_lego_sets = pd.read_csv(\"data/values.csv\")\n",
    "\n",
    "def getActualPieceCount(imgID):\n",
    "    global df_lego_sets\n",
    "    piece_count = df_lego_sets.loc[df_lego_sets['id'] == imgID, 'lego_count'].values[0]\n",
    "    return piece_count \n",
    "\n",
    "def getBoundingBoxes(name):\n",
    "    global df_lego_sets\n",
    "    bb_list_str = df_lego_sets.loc[df_lego_sets['id'] == name, 'bb_list'].values[0]\n",
    "    bb_list = ast.literal_eval(bb_list_str)\n",
    "    return bb_list\n",
    "\n",
    "def makeGuess(image_id, num_guess):\n",
    "    piece_count = getActualPieceCount(image_id)\n",
    "    num_legos_error = abs(num_guess - piece_count)\n",
    "    \n",
    "    if(num_legos_error > 0):\n",
    "        print(f\"Error in Lego Count - Guessed: {num_guess} | Actual: {piece_count} legos\")\n",
    "    else :\n",
    "        print(f\"Perfect ({num_guess}) Guess!\")\n",
    "        \n",
    "    return piece_count, num_legos_error\n"
   ]
  },
  {
   "cell_type": "markdown",
   "metadata": {},
   "source": [
    "## Loading the data"
   ]
  },
  {
   "cell_type": "code",
   "execution_count": 29,
   "metadata": {},
   "outputs": [
    {
     "name": "stdout",
     "output_type": "stream",
     "text": [
      "Counter({1: 2650, 2: 2338, 3: 434, 4: 280, 5: 126, 8: 70, 7: 56, 10: 49, 9: 49, 18: 49, 6: 42, 11: 35, 14: 35, 15: 35, 30: 28, 27: 28, 32: 21, 12: 21, 24: 14, 17: 14, 31: 7, 16: 7, 23: 7, 28: 7, 26: 7, 29: 7, 20: 7, 25: 7, 13: 7})\n",
      "1400\n",
      "300\n",
      "300\n",
      "Counter({1: 578, 2: 494, 3: 94, 4: 64, 5: 28, 8: 19, 7: 13, 9: 12, 18: 9, 32: 9, 6: 9, 11: 9, 27: 8, 15: 8, 14: 8, 30: 6, 10: 6, 12: 5, 17: 4, 31: 3, 28: 3, 20: 2, 29: 2, 16: 2, 13: 2, 25: 1, 24: 1, 23: 1})\n",
      "Counter({1: 123, 2: 109, 3: 26, 4: 12, 5: 7, 8: 4, 11: 3, 6: 2, 10: 2, 14: 2, 27: 2, 18: 2, 20: 1, 13: 1, 31: 1, 32: 1, 7: 1, 15: 1})\n",
      "Counter({1: 127, 2: 104, 3: 24, 4: 14, 5: 5, 10: 4, 18: 3, 9: 3, 6: 2, 30: 2, 7: 2, 11: 2, 15: 2, 23: 2, 24: 1, 8: 1, 31: 1, 26: 1})\n"
     ]
    }
   ],
   "source": [
    "imgs = []\n",
    "\n",
    "img_names = get_file_names('data/imgs')\n",
    "\n",
    "for name in img_names:\n",
    "    img = loadImage(name)\n",
    "    count = getActualPieceCount(name[:-4])\n",
    "    bbs = getBoundingBoxes(name[:-4])\n",
    "    imgs.append((img, count, bbs))\n",
    "\n",
    "    if (count < 2):\n",
    "        continue\n",
    "    # apply multiple transformations to the image to upsample the dataset\n",
    "    # Rotation\n",
    "    rotated_image_90 = cv2.rotate(img, cv2.ROTATE_90_CLOCKWISE)\n",
    "    imgs.append((rotated_image_90, count))\n",
    "    \n",
    "    rotated_image_180 = cv2.rotate(img, cv2.ROTATE_180)\n",
    "    imgs.append((rotated_image_180, count))\n",
    "    \n",
    "    rotated_image_270 = cv2.rotate(img, cv2.ROTATE_90_COUNTERCLOCKWISE)\n",
    "    imgs.append((rotated_image_270, count))\n",
    "    \n",
    "    # Flipping\n",
    "    flipped_image = cv2.flip(img, flipCode=1)\n",
    "    imgs.append((flipped_image, count))\n",
    "    \n",
    "    flipped_image = cv2.flip(img, flipCode=0)\n",
    "    imgs.append((flipped_image, count))\n",
    "    \n",
    "    # Rotation + Flipping\n",
    "    rotated_flipped_image = cv2.flip(rotated_image_90, flipCode=1)\n",
    "    imgs.append((rotated_flipped_image, count))\n",
    "\n",
    "# From the images that have just 1 lego, remove half of them\n",
    "ones_imgs = [img for img in imgs if img[1] == 1]\n",
    "np.random.shuffle(ones_imgs)\n",
    "ones_imgs = ones_imgs[:int(len(ones_imgs)/2)]\n",
    "imgs = [img for img in imgs if img[1] != 1]\n",
    "imgs.extend(ones_imgs)\n",
    "\n",
    "# Display the balance of the dataset\n",
    "lego_counts = [img[1] for img in imgs]\n",
    "lego_counts = Counter(lego_counts)\n",
    "print(lego_counts)\n",
    "\n",
    "# suffle the images\n",
    "np.random.shuffle(imgs)    \n",
    "\n",
    "# Size of dataset that we will be using:\n",
    "datasetSize = 2000\n",
    "\n",
    "\"\"\"\n",
    "# If we want to keep them stratified\n",
    "# Sample the images and make sure they are stratified\n",
    "X = [img[0] for img in imgs]\n",
    "y = [img[1] for img in imgs]\n",
    "\n",
    "X_sampled, _, y_sampled, _ = train_test_split(X, y, test_size=len(X)-200, stratify=y, random_state=42)\n",
    "sampled_imgs = [(X_sampled[i], y_sampled[i]) for i in range(len(X_sampled))]\n",
    "# pick the first 70% of the images for training \n",
    "X_train, X_temp, y_train, y_temp = train_test_split(X_sampled, y_sampled, test_size=0.30, stratify=y_sampled, random_state=42)\n",
    "\n",
    "# and pick the remaining 15% of the images for validation and 15% for testing\n",
    "X_val, X_test, y_val, y_test = train_test_split(X_temp, y_temp, test_size=0.50, stratify=y_temp, random_state=42)\n",
    "\n",
    "# Combine the images and their counts\n",
    "train_imgs = [(X_train[i], y_train[i]) for i in range(len(X_train))]\n",
    "val_imgs = [(X_val[i], y_val[i]) for i in range(len(X_val))]\n",
    "test_imgs = [(X_test[i], y_test[i]) for i in range(len(X_test))]\n",
    "\n",
    "# pick the first 70% of the images for training\n",
    "train_imgs = sampled_imgs[:int(datasetSize * 0.7)]\n",
    "val_imgs = sampled_imgs[int(datasetSize * 0.7):int(datasetSize * 0.85)]\n",
    "test_imgs = sampled_imgs[int(datasetSize * 0.85):]\n",
    "\"\"\"\n",
    "\n",
    "imgs = imgs[:datasetSize]\n",
    "    \n",
    "# pick the first 70% of the images for training\n",
    "train_imgs = imgs[:int(len(imgs)*0.7)]\n",
    "\n",
    "# pick the remaining 15% of the images for validation and the last 15% for testing\n",
    "val_imgs = imgs[int(len(imgs)*0.7):int(len(imgs)*0.85)]\n",
    "test_imgs = imgs[int(len(imgs)*0.85):]\n",
    "\n",
    "print(len(train_imgs))\n",
    "print(len(val_imgs))\n",
    "print(len(test_imgs))\n",
    "\n",
    "# Calculate the distribution of the number of legos in each set\n",
    "train_lego_counts = [img[1] for img in train_imgs]\n",
    "val_lego_counts = [img[1] for img in val_imgs]\n",
    "test_lego_counts = [img[1] for img in test_imgs]\n",
    "\n",
    "train_lego_counts = Counter(train_lego_counts)\n",
    "val_lego_counts = Counter(val_lego_counts)\n",
    "test_lego_counts = Counter(test_lego_counts)\n",
    "\n",
    "print(train_lego_counts)\n",
    "print(val_lego_counts)\n",
    "print(test_lego_counts)"
   ]
  },
  {
   "cell_type": "markdown",
   "metadata": {},
   "source": [
    "## Defining the model"
   ]
  },
  {
   "cell_type": "code",
   "execution_count": 30,
   "metadata": {},
   "outputs": [],
   "source": [
    "class CustomDataset(Dataset):\n",
    "  def __init__(self, images, labels, transform=None):\n",
    "        self.images = images\n",
    "        self.labels = labels\n",
    "        self.transform = transform\n",
    "  \n",
    "  def __len__(self):\n",
    "    return len(self.images)\n",
    "\n",
    "  def __getitem__(self, idx):\n",
    "      image = self.images[idx]\n",
    "\n",
    "      # Apply transformations to the image\n",
    "      if self.transform:\n",
    "        image = self.transform(image)\n",
    "\n",
    "      label = int(self.labels[idx])\n",
    "      return (image, label)"
   ]
  },
  {
   "cell_type": "code",
   "execution_count": 31,
   "metadata": {},
   "outputs": [
    {
     "name": "stdout",
     "output_type": "stream",
     "text": [
      "44\n",
      "10\n",
      "10\n",
      "Using cpu device\n"
     ]
    }
   ],
   "source": [
    "train_images = [img[0] for img in train_imgs]\n",
    "train_labels = [img[1] for img in train_imgs]\n",
    "val_images = [img[0] for img in val_imgs]\n",
    "val_labels = [img[1] for img in val_imgs]\n",
    "test_images = [img[0] for img in test_imgs]\n",
    "test_labels = [img[1] for img in test_imgs]\n",
    "\n",
    "batch_size = 32 # how many images are processed at a time\n",
    "num_workers = 4 # how many processes are used to load the data\n",
    "\n",
    "# Define transformations\n",
    "data_aug = transforms.Compose([\n",
    "    transforms.ToTensor(),\n",
    "    transforms.Normalize([0.485, 0.456, 0.406], [0.229, 0.224, 0.225])\n",
    "])\n",
    "\n",
    "# Create dataset objects\n",
    "training_data = CustomDataset(train_images, train_labels, transform=data_aug)\n",
    "validation_data = CustomDataset(val_images, val_labels, transform=data_aug)\n",
    "testing_data = CustomDataset(test_images, test_labels, transform=data_aug)\n",
    "\n",
    "# Define data loaders\n",
    "train_dataloader = DataLoader(training_data, batch_size=batch_size, shuffle=True, num_workers=num_workers)\n",
    "validation_dataloader = DataLoader(validation_data, batch_size=batch_size, shuffle=False, num_workers=num_workers)\n",
    "test_dataloader = DataLoader(testing_data, batch_size=batch_size, shuffle=False, num_workers=num_workers)\n",
    "\n",
    "# Show one image\n",
    "# plt.imshow(training_data[0][0][0,:,:], cmap='gray')\n",
    "\n",
    "print(len(train_dataloader))\n",
    "print(len(validation_dataloader))\n",
    "print(len(test_dataloader))\n",
    "\n",
    "# Get cpu or gpu device for training\n",
    "device = \"cuda\" if torch.cuda.is_available() else \"cpu\"\n",
    "print(f\"Using {device} device\")"
   ]
  },
  {
   "cell_type": "code",
   "execution_count": 7,
   "metadata": {},
   "outputs": [
    {
     "name": "stdout",
     "output_type": "stream",
     "text": [
      "ConvolutionalNeuralNetwork(\n",
      "  (layers): Sequential(\n",
      "    (0): Conv2d(3, 32, kernel_size=(3, 3), stride=(1, 1))\n",
      "    (1): ReLU()\n",
      "    (2): Conv2d(32, 32, kernel_size=(3, 3), stride=(1, 1))\n",
      "    (3): ReLU()\n",
      "    (4): MaxPool2d(kernel_size=2, stride=2, padding=0, dilation=1, ceil_mode=False)\n",
      "    (5): Dropout(p=0.25, inplace=False)\n",
      "    (6): Conv2d(32, 64, kernel_size=(3, 3), stride=(1, 1))\n",
      "    (7): ReLU()\n",
      "    (8): Conv2d(64, 64, kernel_size=(3, 3), stride=(1, 1))\n",
      "    (9): ReLU()\n",
      "    (10): MaxPool2d(kernel_size=2, stride=2, padding=0, dilation=1, ceil_mode=False)\n",
      "    (11): Dropout(p=0.25, inplace=False)\n",
      "    (12): Flatten(start_dim=1, end_dim=-1)\n",
      "    (13): Linear(in_features=179776, out_features=512, bias=True)\n",
      "    (14): ReLU()\n",
      "    (15): Dropout(p=0.5, inplace=False)\n",
      "    (16): Linear(in_features=512, out_features=33, bias=True)\n",
      "  )\n",
      ")\n"
     ]
    }
   ],
   "source": [
    "\n",
    "class ConvolutionalNeuralNetwork(nn.Module):\n",
    "    def __init__(self):\n",
    "        super(ConvolutionalNeuralNetwork, self).__init__()\n",
    "        self.pool_size = 2\n",
    "        self.nb_filters = 32\n",
    "        self.kernel_size = 3\n",
    "\n",
    "        self.layers = nn.Sequential(\n",
    "            nn.Conv2d(3, self.nb_filters, self.kernel_size),\n",
    "            nn.ReLU(),\n",
    "            nn.Conv2d(self.nb_filters, self.nb_filters, self.kernel_size),\n",
    "            nn.ReLU(),\n",
    "            nn.MaxPool2d(self.pool_size),\n",
    "            nn.Dropout(0.25),\n",
    "            nn.Conv2d(self.nb_filters, self.nb_filters * 2, self.kernel_size),\n",
    "            nn.ReLU(),\n",
    "            nn.Conv2d(self.nb_filters * 2, self.nb_filters * 2, self.kernel_size),\n",
    "            nn.ReLU(),\n",
    "            nn.MaxPool2d(self.pool_size),\n",
    "            nn.Dropout(0.25),\n",
    "            nn.Flatten(),\n",
    "            nn.Linear(179776, 512),\n",
    "            nn.ReLU(),\n",
    "            nn.Dropout(0.5),\n",
    "            nn.Linear(512, 33)  # we have 33 classes to guess\n",
    "        )\n",
    "\n",
    "    def forward(self, x):\n",
    "        logits = self.layers(x)\n",
    "        return logits\n",
    "\n",
    "model = ConvolutionalNeuralNetwork().to(device)\n",
    "print(model)"
   ]
  },
  {
   "cell_type": "markdown",
   "metadata": {},
   "source": [
    "## Train"
   ]
  },
  {
   "cell_type": "code",
   "execution_count": 32,
   "metadata": {},
   "outputs": [],
   "source": [
    "# Create folder to save the models\n",
    "try:\n",
    "    folder_name = \"models\"\n",
    "    os.mkdir(folder_name)\n",
    "except FileExistsError:\n",
    "    pass"
   ]
  },
  {
   "cell_type": "code",
   "execution_count": 9,
   "metadata": {},
   "outputs": [],
   "source": [
    "def epoch_iter(dataloader, model, loss_fn, optimizer=None, is_train=True, preds=[], labels=[]):\n",
    "    if is_train:\n",
    "      assert optimizer is not None, \"When training, please provide an optimizer.\"\n",
    "\n",
    "    num_batches = len(dataloader)\n",
    "    \n",
    "    if num_batches == 0:\n",
    "      print(\"No data in the dataloader\")\n",
    "      return 0.0, 0.0\n",
    "\n",
    "    if is_train:\n",
    "      model.train()\n",
    "    else:\n",
    "      model.eval()\n",
    "\n",
    "    total_loss = 0.0\n",
    "\n",
    "    with torch.set_grad_enabled(is_train):\n",
    "      for batch, (X, y) in enumerate(tqdm(dataloader)):\n",
    "          X, y = X.to(device), y.to(device)\n",
    "\n",
    "          # Obtain prediction\n",
    "          pred = model(X)\n",
    "          \n",
    "          # Obtain loss value\n",
    "          loss = loss_fn(pred, y)\n",
    "\n",
    "          if is_train:\n",
    "            # Backpropagation\n",
    "            optimizer.zero_grad()\n",
    "            loss.backward()\n",
    "            optimizer.step()\n",
    "\n",
    "          # Save training metrics\n",
    "          total_loss += loss.item() # IMPORTANT: call .item() to obtain the value of the loss WITHOUT the computational graph attached\n",
    "\n",
    "          # Calculate final prediction\n",
    "          probs = F.softmax(pred, dim=1)\n",
    "          final_pred = torch.argmax(probs, dim=1)\n",
    "          preds.extend(final_pred.cpu().numpy())\n",
    "          labels.extend(y.cpu().numpy())\n",
    "\n",
    "    return total_loss / num_batches, accuracy_score(labels, preds)"
   ]
  },
  {
   "cell_type": "code",
   "execution_count": 10,
   "metadata": {},
   "outputs": [],
   "source": [
    "def train(model, model_name, num_epochs, train_dataloader, validation_dataloader, loss_fn, optimizer):\n",
    "  \n",
    "  train_history = {'loss': [], 'accuracy': []}\n",
    "  val_history = {'loss': [], 'accuracy': []}\n",
    "  \n",
    "  best_val_loss = np.inf\n",
    "  \n",
    "  print(\"Start training...\")\n",
    "  \n",
    "  for t in range(num_epochs):\n",
    "    \n",
    "      print(f\"\\nEpoch {t+1}\")\n",
    "      \n",
    "      train_loss, train_acc = epoch_iter(train_dataloader, model, loss_fn, optimizer)\n",
    "      print(f\"Train loss: {train_loss:.3f} \\t Train acc: {train_acc:.3f}\")\n",
    "      \n",
    "      if(train_acc > 0):\n",
    "        val_loss, val_acc = epoch_iter(validation_dataloader, model, loss_fn, is_train=False)\n",
    "      else :\n",
    "        val_loss = 0\n",
    "        val_acc = 0\n",
    "        \n",
    "      print(f\"Val loss: {val_loss:.3f} \\t Val acc: {val_acc:.3f}\")\n",
    "\n",
    "      # save model when val loss improves\n",
    "      if val_loss < best_val_loss:\n",
    "        best_val_loss = val_loss\n",
    "        save_dict = {'model': model.state_dict(), 'optimizer': optimizer.state_dict(), 'epoch': t}\n",
    "        torch.save(save_dict, \"models/\" + model_name + '_best_model.pth')\n",
    "\n",
    "      # save latest model\n",
    "      save_dict = {'model': model.state_dict(), 'optimizer': optimizer.state_dict(), 'epoch': t}\n",
    "      torch.save(save_dict, \"models/\" + model_name + '_latest_model.pth')\n",
    "\n",
    "      # save training history for plotting purposes\n",
    "      train_history[\"loss\"].append(train_loss)\n",
    "      train_history[\"accuracy\"].append(train_acc)\n",
    "\n",
    "      val_history[\"loss\"].append(val_loss)\n",
    "      val_history[\"accuracy\"].append(val_acc)\n",
    "      \n",
    "  print(\"Finished\")\n",
    "  return train_history, val_history"
   ]
  },
  {
   "cell_type": "code",
   "execution_count": 33,
   "metadata": {},
   "outputs": [],
   "source": [
    "def plotTrainingHistory(train_history, val_history, stat='accuracy'):\n",
    "    plt.subplot(2, 1, 1)\n",
    "    plt.title('Loss')\n",
    "    plt.plot(train_history['loss'], label='train')\n",
    "    plt.plot(val_history['loss'], label='val')\n",
    "    plt.legend(loc='best')\n",
    "\n",
    "    plt.subplot(2, 1, 2)\n",
    "    plt.title(stat)\n",
    "    plt.plot(train_history[stat], label='train')\n",
    "    plt.plot(val_history[stat], label='val')\n",
    "\n",
    "    plt.tight_layout()\n",
    "    plt.legend(loc='best')\n",
    "    plt.show()"
   ]
  },
  {
   "cell_type": "code",
   "execution_count": 12,
   "metadata": {},
   "outputs": [
    {
     "name": "stdout",
     "output_type": "stream",
     "text": [
      "Start training...\n",
      "\n",
      "Epoch 1\n"
     ]
    },
    {
     "name": "stderr",
     "output_type": "stream",
     "text": [
      "100%|██████████| 3/3 [00:09<00:00,  3.09s/it]\n"
     ]
    },
    {
     "name": "stdout",
     "output_type": "stream",
     "text": [
      "Train loss: 3.348 \t Train acc: 0.314\n"
     ]
    },
    {
     "name": "stderr",
     "output_type": "stream",
     "text": [
      "100%|██████████| 1/1 [00:01<00:00,  1.27s/it]\n"
     ]
    },
    {
     "name": "stdout",
     "output_type": "stream",
     "text": [
      "Val loss: 3.070 \t Val acc: 0.306\n",
      "\n",
      "Epoch 2\n"
     ]
    },
    {
     "name": "stderr",
     "output_type": "stream",
     "text": [
      "100%|██████████| 3/3 [00:09<00:00,  3.03s/it]\n"
     ]
    },
    {
     "name": "stdout",
     "output_type": "stream",
     "text": [
      "Train loss: 2.357 \t Train acc: 0.342\n"
     ]
    },
    {
     "name": "stderr",
     "output_type": "stream",
     "text": [
      "100%|██████████| 1/1 [00:01<00:00,  1.20s/it]\n"
     ]
    },
    {
     "name": "stdout",
     "output_type": "stream",
     "text": [
      "Val loss: 1.822 \t Val acc: 0.359\n",
      "\n",
      "Epoch 3\n"
     ]
    },
    {
     "name": "stderr",
     "output_type": "stream",
     "text": [
      "100%|██████████| 3/3 [00:08<00:00,  2.92s/it]\n"
     ]
    },
    {
     "name": "stdout",
     "output_type": "stream",
     "text": [
      "Train loss: 1.854 \t Train acc: 0.367\n"
     ]
    },
    {
     "name": "stderr",
     "output_type": "stream",
     "text": [
      "100%|██████████| 1/1 [00:01<00:00,  1.21s/it]\n"
     ]
    },
    {
     "name": "stdout",
     "output_type": "stream",
     "text": [
      "Val loss: 2.060 \t Val acc: 0.361\n",
      "\n",
      "Epoch 4\n"
     ]
    },
    {
     "name": "stderr",
     "output_type": "stream",
     "text": [
      "100%|██████████| 3/3 [00:08<00:00,  3.00s/it]\n"
     ]
    },
    {
     "name": "stdout",
     "output_type": "stream",
     "text": [
      "Train loss: 2.127 \t Train acc: 0.382\n"
     ]
    },
    {
     "name": "stderr",
     "output_type": "stream",
     "text": [
      "100%|██████████| 1/1 [00:01<00:00,  1.21s/it]\n"
     ]
    },
    {
     "name": "stdout",
     "output_type": "stream",
     "text": [
      "Val loss: 1.960 \t Val acc: 0.388\n",
      "\n",
      "Epoch 5\n"
     ]
    },
    {
     "name": "stderr",
     "output_type": "stream",
     "text": [
      "100%|██████████| 3/3 [00:08<00:00,  2.95s/it]\n"
     ]
    },
    {
     "name": "stdout",
     "output_type": "stream",
     "text": [
      "Train loss: 1.794 \t Train acc: 0.378\n"
     ]
    },
    {
     "name": "stderr",
     "output_type": "stream",
     "text": [
      "100%|██████████| 1/1 [00:01<00:00,  1.23s/it]\n"
     ]
    },
    {
     "name": "stdout",
     "output_type": "stream",
     "text": [
      "Val loss: 1.670 \t Val acc: 0.384\n",
      "Finished\n"
     ]
    },
    {
     "data": {
      "image/png": "[encoded data removed]",
      "text/plain": [
       "<Figure size 640x480 with 2 Axes>"
      ]
     },
     "metadata": {},
     "output_type": "display_data"
    }
   ],
   "source": [
    "num_epochs = 5\n",
    "model_name = 'custom_CNN'\n",
    "\n",
    "# Define loss function and optimizer\n",
    "loss_fn = nn.CrossEntropyLoss()\n",
    "optimizer_custom = torch.optim.SGD(model.parameters(), lr=0.01)\n",
    "\n",
    "custom_train_history, custom_val_history = train(model, model_name, num_epochs, train_dataloader, validation_dataloader, loss_fn, optimizer_custom)\n",
    "\n",
    "plotTrainingHistory(custom_train_history, custom_val_history)"
   ]
  },
  {
   "cell_type": "markdown",
   "metadata": {},
   "source": [
    "## Testing"
   ]
  },
  {
   "cell_type": "code",
   "execution_count": 34,
   "metadata": {},
   "outputs": [],
   "source": [
    "# Display the confusion matrix exactly as received from the sklearn library\n",
    "def display_confusion_matrix(confusion_matrix):\n",
    "    plt.figure(figsize=(12, 12))\n",
    "    plt.imshow(confusion_matrix, interpolation='nearest', cmap=plt.get_cmap('Blues'))\n",
    "    plt.title('Confusion Matrix')\n",
    "    plt.colorbar()\n",
    "    plt.ylabel('True label')\n",
    "    plt.xlabel('Predicted label')\n",
    "    # We will have at most 33 classes\n",
    "    plt.xticks(range(0, 32))\n",
    "    plt.yticks(range(0, 32))\n",
    "    # The padding should be set to 0\n",
    "    plt.gca().set_xticklabels([str(x) for x in range(1, 33)])\n",
    "    plt.gca().set_yticklabels([str(x) for x in range(1, 33)])\n",
    "    plt.show()\n",
    "\n",
    "def buildConfusionMatrix(preds, labels):\n",
    "    # We will build our custom confusion matrix with 32 classes\n",
    "    confusion_matrix = np.zeros((32, 32))\n",
    "    for i in range(len(preds)):\n",
    "        confusion_matrix[labels[i]-1, preds[i]-1] += 1\n",
    "    return confusion_matrix"
   ]
  },
  {
   "cell_type": "code",
   "execution_count": 14,
   "metadata": {},
   "outputs": [
    {
     "name": "stderr",
     "output_type": "stream",
     "text": [
      "100%|██████████| 1/1 [00:01<00:00,  1.28s/it]\n"
     ]
    },
    {
     "name": "stdout",
     "output_type": "stream",
     "text": [
      "\n",
      "Test Loss: 2.005 \n",
      "Test Accuracy: 0.467\n",
      "\n",
      "[[7. 0. 0. ... 0. 0. 0.]\n",
      " [4. 0. 0. ... 0. 0. 0.]\n",
      " [1. 0. 0. ... 0. 0. 0.]\n",
      " ...\n",
      " [0. 0. 0. ... 0. 0. 0.]\n",
      " [0. 0. 0. ... 0. 0. 0.]\n",
      " [1. 0. 0. ... 0. 0. 0.]]\n"
     ]
    },
    {
     "data": {
      "image/png": "[encoded data removed]",
      "text/plain": [
       "<Figure size 1200x1200 with 2 Axes>"
      ]
     },
     "metadata": {},
     "output_type": "display_data"
    }
   ],
   "source": [
    "# Load model\n",
    "model = ConvolutionalNeuralNetwork().to(device)\n",
    "checkpoint = torch.load(\"models/\" + model_name + '_best_model.pth')\n",
    "model.load_state_dict(checkpoint['model'])\n",
    "\n",
    "# Test model\n",
    "preds = []\n",
    "labels = []\n",
    "test_loss, test_acc = epoch_iter(test_dataloader, model, loss_fn, is_train=False, preds=preds, labels=labels)\n",
    "print(f\"\\nTest Loss: {test_loss:.3f} \\nTest Accuracy: {test_acc:.3f}\\n\")\n",
    "\n",
    "# Confusion matrix with the number in each cell\n",
    "confusion_matrix = buildConfusionMatrix(preds, labels)\n",
    "print(confusion_matrix)\n",
    "# Display confusion matrix\n",
    "display_confusion_matrix(confusion_matrix)\n"
   ]
  },
  {
   "cell_type": "code",
   "execution_count": 35,
   "metadata": {},
   "outputs": [],
   "source": [
    "def showErrors(model, dataloader, num_examples=20):    \n",
    "    plt.figure(figsize=(15, 15))\n",
    "\n",
    "    for ind, (X, y) in enumerate(dataloader):\n",
    "      if ind >= num_examples: break\n",
    "      X, y = X.to(device), y.to(device)    \n",
    "      pred = model(X)\n",
    "      probs = F.softmax(pred, dim=1)\n",
    "      final_pred = torch.argmax(probs, dim=1)\n",
    "\n",
    "      plt.subplot(10, 10, ind + 1)\n",
    "      plt.axis(\"off\")\n",
    "      plt.text(0, -1, y[0].item(), fontsize=14, color='green') # correct\n",
    "      plt.text(8, -1, final_pred[0].item(), fontsize=14, color='red')  # predicted\n",
    "      plt.imshow(X[0][0,:,:].cpu(), cmap='gray')\n",
    "      \n",
    "    plt.show()\n",
    "    \n",
    "# showErrors(model, test_dataloader)"
   ]
  },
  {
   "cell_type": "markdown",
   "metadata": {},
   "source": [
    "## Pre-trained model"
   ]
  },
  {
   "cell_type": "markdown",
   "metadata": {},
   "source": [
    "[Click here to check the pre-trained models that are available on torchvision.](https://pytorch.org/vision/0.9/models.html)\n"
   ]
  },
  {
   "cell_type": "code",
   "execution_count": 16,
   "metadata": {},
   "outputs": [
    {
     "name": "stdout",
     "output_type": "stream",
     "text": [
      "VGG(\n",
      "  (features): Sequential(\n",
      "    (0): Conv2d(3, 64, kernel_size=(3, 3), stride=(1, 1), padding=(1, 1))\n",
      "    (1): ReLU(inplace=True)\n",
      "    (2): Conv2d(64, 64, kernel_size=(3, 3), stride=(1, 1), padding=(1, 1))\n",
      "    (3): ReLU(inplace=True)\n",
      "    (4): MaxPool2d(kernel_size=2, stride=2, padding=0, dilation=1, ceil_mode=False)\n",
      "    (5): Conv2d(64, 128, kernel_size=(3, 3), stride=(1, 1), padding=(1, 1))\n",
      "    (6): ReLU(inplace=True)\n",
      "    (7): Conv2d(128, 128, kernel_size=(3, 3), stride=(1, 1), padding=(1, 1))\n",
      "    (8): ReLU(inplace=True)\n",
      "    (9): MaxPool2d(kernel_size=2, stride=2, padding=0, dilation=1, ceil_mode=False)\n",
      "    (10): Conv2d(128, 256, kernel_size=(3, 3), stride=(1, 1), padding=(1, 1))\n",
      "    (11): ReLU(inplace=True)\n",
      "    (12): Conv2d(256, 256, kernel_size=(3, 3), stride=(1, 1), padding=(1, 1))\n",
      "    (13): ReLU(inplace=True)\n",
      "    (14): Conv2d(256, 256, kernel_size=(3, 3), stride=(1, 1), padding=(1, 1))\n",
      "    (15): ReLU(inplace=True)\n",
      "    (16): MaxPool2d(kernel_size=2, stride=2, padding=0, dilation=1, ceil_mode=False)\n",
      "    (17): Conv2d(256, 512, kernel_size=(3, 3), stride=(1, 1), padding=(1, 1))\n",
      "    (18): ReLU(inplace=True)\n",
      "    (19): Conv2d(512, 512, kernel_size=(3, 3), stride=(1, 1), padding=(1, 1))\n",
      "    (20): ReLU(inplace=True)\n",
      "    (21): Conv2d(512, 512, kernel_size=(3, 3), stride=(1, 1), padding=(1, 1))\n",
      "    (22): ReLU(inplace=True)\n",
      "    (23): MaxPool2d(kernel_size=2, stride=2, padding=0, dilation=1, ceil_mode=False)\n",
      "    (24): Conv2d(512, 512, kernel_size=(3, 3), stride=(1, 1), padding=(1, 1))\n",
      "    (25): ReLU(inplace=True)\n",
      "    (26): Conv2d(512, 512, kernel_size=(3, 3), stride=(1, 1), padding=(1, 1))\n",
      "    (27): ReLU(inplace=True)\n",
      "    (28): Conv2d(512, 512, kernel_size=(3, 3), stride=(1, 1), padding=(1, 1))\n",
      "    (29): ReLU(inplace=True)\n",
      "    (30): MaxPool2d(kernel_size=2, stride=2, padding=0, dilation=1, ceil_mode=False)\n",
      "  )\n",
      "  (avgpool): AdaptiveAvgPool2d(output_size=(7, 7))\n",
      "  (classifier): Sequential(\n",
      "    (0): Linear(in_features=25088, out_features=4096, bias=True)\n",
      "    (1): ReLU(inplace=True)\n",
      "    (2): Dropout(p=0.5, inplace=False)\n",
      "    (3): Linear(in_features=4096, out_features=4096, bias=True)\n",
      "    (4): ReLU(inplace=True)\n",
      "    (5): Dropout(p=0.5, inplace=False)\n",
      "    (6): Linear(in_features=4096, out_features=32, bias=True)\n",
      "  )\n",
      ")\n",
      "Start training...\n",
      "\n",
      "Epoch 1\n"
     ]
    },
    {
     "name": "stderr",
     "output_type": "stream",
     "text": [
      "100%|██████████| 3/3 [00:42<00:00, 14.25s/it]\n"
     ]
    },
    {
     "name": "stdout",
     "output_type": "stream",
     "text": [
      "Train loss: 2.679 \t Train acc: 0.366\n"
     ]
    },
    {
     "name": "stderr",
     "output_type": "stream",
     "text": [
      "100%|██████████| 1/1 [00:03<00:00,  3.86s/it]\n"
     ]
    },
    {
     "name": "stdout",
     "output_type": "stream",
     "text": [
      "Val loss: 2.151 \t Val acc: 0.371\n",
      "\n",
      "Epoch 2\n"
     ]
    },
    {
     "name": "stderr",
     "output_type": "stream",
     "text": [
      "100%|██████████| 3/3 [00:44<00:00, 14.76s/it]\n"
     ]
    },
    {
     "name": "stdout",
     "output_type": "stream",
     "text": [
      "Train loss: 2.301 \t Train acc: 0.376\n"
     ]
    },
    {
     "name": "stderr",
     "output_type": "stream",
     "text": [
      "100%|██████████| 1/1 [00:03<00:00,  3.98s/it]\n"
     ]
    },
    {
     "name": "stdout",
     "output_type": "stream",
     "text": [
      "Val loss: 2.000 \t Val acc: 0.378\n",
      "\n",
      "Epoch 3\n"
     ]
    },
    {
     "name": "stderr",
     "output_type": "stream",
     "text": [
      "100%|██████████| 3/3 [00:46<00:00, 15.61s/it]\n"
     ]
    },
    {
     "name": "stdout",
     "output_type": "stream",
     "text": [
      "Train loss: 1.377 \t Train acc: 0.405\n"
     ]
    },
    {
     "name": "stderr",
     "output_type": "stream",
     "text": [
      "100%|██████████| 1/1 [00:04<00:00,  4.01s/it]\n"
     ]
    },
    {
     "name": "stdout",
     "output_type": "stream",
     "text": [
      "Val loss: 1.562 \t Val acc: 0.409\n",
      "\n",
      "Epoch 4\n"
     ]
    },
    {
     "name": "stderr",
     "output_type": "stream",
     "text": [
      "100%|██████████| 3/3 [00:45<00:00, 15.17s/it]\n"
     ]
    },
    {
     "name": "stdout",
     "output_type": "stream",
     "text": [
      "Train loss: 1.030 \t Train acc: 0.435\n"
     ]
    },
    {
     "name": "stderr",
     "output_type": "stream",
     "text": [
      "100%|██████████| 1/1 [00:04<00:00,  4.54s/it]\n"
     ]
    },
    {
     "name": "stdout",
     "output_type": "stream",
     "text": [
      "Val loss: 1.960 \t Val acc: 0.437\n",
      "\n",
      "Epoch 5\n"
     ]
    },
    {
     "name": "stderr",
     "output_type": "stream",
     "text": [
      "100%|██████████| 3/3 [00:46<00:00, 15.57s/it]\n"
     ]
    },
    {
     "name": "stdout",
     "output_type": "stream",
     "text": [
      "Train loss: 0.979 \t Train acc: 0.456\n"
     ]
    },
    {
     "name": "stderr",
     "output_type": "stream",
     "text": [
      "100%|██████████| 1/1 [00:04<00:00,  4.43s/it]\n"
     ]
    },
    {
     "name": "stdout",
     "output_type": "stream",
     "text": [
      "Val loss: 1.616 \t Val acc: 0.458\n",
      "Finished\n"
     ]
    },
    {
     "data": {
      "image/png": "[encoded data removed]",
      "text/plain": [
       "<Figure size 640x480 with 2 Axes>"
      ]
     },
     "metadata": {},
     "output_type": "display_data"
    },
    {
     "name": "stdout",
     "output_type": "stream",
     "text": [
      "[[7. 0. 0. ... 0. 0. 0.]\n",
      " [4. 0. 0. ... 0. 0. 0.]\n",
      " [1. 0. 0. ... 0. 0. 0.]\n",
      " ...\n",
      " [0. 0. 0. ... 0. 0. 0.]\n",
      " [0. 0. 0. ... 0. 0. 0.]\n",
      " [1. 0. 0. ... 0. 0. 0.]]\n"
     ]
    },
    {
     "data": {
      "image/png": "[encoded data removed]",
      "text/plain": [
       "<Figure size 1200x1200 with 2 Axes>"
      ]
     },
     "metadata": {},
     "output_type": "display_data"
    }
   ],
   "source": [
    "vgg = models.vgg16(pretrained=True)\n",
    "vgg.to(device)\n",
    "\n",
    "# set out_features of the last layer to 32\n",
    "vgg.classifier[6] = nn.Linear(4096, 32)\n",
    "\n",
    "print(vgg)\n",
    "\n",
    "# Train network for 10 epochs\n",
    "num_epochs = 5\n",
    "model_name = 'vgg16'\n",
    "\n",
    "loss_fn = nn.CrossEntropyLoss()\n",
    "optimizer_vgg = torch.optim.SGD(vgg.parameters(), lr=0.01)\n",
    "\n",
    "vgg_train_history, vgg_val_history = train(vgg, model_name, num_epochs, train_dataloader, validation_dataloader, loss_fn, optimizer_vgg)\n",
    "\n",
    "plotTrainingHistory(vgg_train_history, vgg_val_history)\n",
    "\n",
    "# Confusion matrix with the number in each cell\n",
    "confusion_matrix = buildConfusionMatrix(preds, labels)\n",
    "print(confusion_matrix)\n",
    "# Display confusion matrix\n",
    "display_confusion_matrix(confusion_matrix)\n"
   ]
  },
  {
   "cell_type": "markdown",
   "metadata": {},
   "source": [
    "Now, instead of using 32 classes, we will treat this problem as a regression problem. We will use the same architecture as before, but we will change the output layer to have only one neuron."
   ]
  },
  {
   "cell_type": "code",
   "execution_count": 42,
   "metadata": {},
   "outputs": [],
   "source": [
    "# We need to change the epoch_iter to adapt to the regression problem instead of classification\n",
    "\n",
    "def epoch_iter(dataloader, model, loss_fn, optimizer=None, is_train=True, preds=[], labels=[]):\n",
    "    if is_train:\n",
    "      assert optimizer is not None, \"When training, please provide an optimizer.\"\n",
    "\n",
    "    num_batches = len(dataloader)\n",
    "    \n",
    "    if num_batches == 0:\n",
    "      print(\"No data in the dataloader\")\n",
    "      return 0.0, 0.0\n",
    "\n",
    "    if is_train:\n",
    "      model.train()\n",
    "    else:\n",
    "      model.eval()\n",
    "\n",
    "    total_loss = 0.0\n",
    "\n",
    "    with torch.set_grad_enabled(is_train):\n",
    "      for batch, (X, y) in enumerate(tqdm(dataloader)):\n",
    "          X, y = X.to(device), y.to(device)\n",
    "\n",
    "          y = y.float()\n",
    "\n",
    "          # Obtain prediction\n",
    "          pred = model(X)\n",
    "          \n",
    "          # Obtain loss value\n",
    "          loss = loss_fn(pred, y)\n",
    "\n",
    "          if is_train:\n",
    "            # Backpropagation\n",
    "            optimizer.zero_grad()\n",
    "            loss.backward()\n",
    "            optimizer.step()\n",
    "\n",
    "          # Save training metrics\n",
    "          total_loss += loss.item() # IMPORTANT: call .item() to obtain the value of the loss WITHOUT the computational graph attached\n",
    "\n",
    "          # Calculate final prediction\n",
    "          preds.extend(pred.cpu().detach().numpy())\n",
    "          labels.extend(y.cpu().detach().numpy())\n",
    "\n",
    "    return total_loss / num_batches"
   ]
  },
  {
   "cell_type": "code",
   "execution_count": 43,
   "metadata": {},
   "outputs": [],
   "source": [
    "# We also need to change the train function to adapt to the regression problem\n",
    "\n",
    "def train(model, model_name, num_epochs, train_dataloader, validation_dataloader, loss_fn, optimizer):\n",
    "    \n",
    "    train_history = {'loss': [], 'mse': []}\n",
    "    val_history = {'loss': [], 'mse': []}\n",
    "    \n",
    "    best_val_loss = np.inf\n",
    "    \n",
    "    print(\"Start training...\")\n",
    "    \n",
    "    for t in range(num_epochs):\n",
    "        \n",
    "        print(f\"\\nEpoch {t+1}\")\n",
    "        \n",
    "        train_loss = epoch_iter(train_dataloader, model, loss_fn, optimizer)\n",
    "        print(f\"Train loss: {train_loss:.3f}\\t\")\n",
    "        \n",
    "        if(train_loss > 0):\n",
    "            val_loss = epoch_iter(validation_dataloader, model, loss_fn, is_train=False)\n",
    "        else :\n",
    "            val_loss = 0\n",
    "            \n",
    "        print(f\"Val loss: {val_loss:.3f} \\t\")\n",
    "    \n",
    "        # save model when val loss improves\n",
    "        if val_loss < best_val_loss:\n",
    "            best_val_loss = val_loss\n",
    "            save_dict = {'model': model.state_dict(), 'optimizer': optimizer.state_dict(), 'epoch': t}\n",
    "            torch.save(save_dict, \"models/\" + model_name + '_best_model.pth')\n",
    "    \n",
    "        # save latest model\n",
    "        save_dict = {'model': model.state_dict(), 'optimizer': optimizer.state_dict(), 'epoch': t}\n",
    "        torch.save(save_dict, \"models/\" + model_name + '_latest_model.pth')\n",
    "    \n",
    "        # save training history for plotting purposes\n",
    "        train_history[\"loss\"].append(train_loss)\n",
    "    \n",
    "        val_history[\"loss\"].append(val_loss)\n",
    "        \n",
    "    print(\"Finished\")\n",
    "    return train_history, val_history"
   ]
  },
  {
   "cell_type": "code",
   "execution_count": 44,
   "metadata": {},
   "outputs": [
    {
     "name": "stdout",
     "output_type": "stream",
     "text": [
      "RegressionVGG16(\n",
      "  (vgg): VGG(\n",
      "    (features): Sequential(\n",
      "      (0): Conv2d(3, 64, kernel_size=(3, 3), stride=(1, 1), padding=(1, 1))\n",
      "      (1): ReLU(inplace=True)\n",
      "      (2): Conv2d(64, 64, kernel_size=(3, 3), stride=(1, 1), padding=(1, 1))\n",
      "      (3): ReLU(inplace=True)\n",
      "      (4): MaxPool2d(kernel_size=2, stride=2, padding=0, dilation=1, ceil_mode=False)\n",
      "      (5): Conv2d(64, 128, kernel_size=(3, 3), stride=(1, 1), padding=(1, 1))\n",
      "      (6): ReLU(inplace=True)\n",
      "      (7): Conv2d(128, 128, kernel_size=(3, 3), stride=(1, 1), padding=(1, 1))\n",
      "      (8): ReLU(inplace=True)\n",
      "      (9): MaxPool2d(kernel_size=2, stride=2, padding=0, dilation=1, ceil_mode=False)\n",
      "      (10): Conv2d(128, 256, kernel_size=(3, 3), stride=(1, 1), padding=(1, 1))\n",
      "      (11): ReLU(inplace=True)\n",
      "      (12): Conv2d(256, 256, kernel_size=(3, 3), stride=(1, 1), padding=(1, 1))\n",
      "      (13): ReLU(inplace=True)\n",
      "      (14): Conv2d(256, 256, kernel_size=(3, 3), stride=(1, 1), padding=(1, 1))\n",
      "      (15): ReLU(inplace=True)\n",
      "      (16): MaxPool2d(kernel_size=2, stride=2, padding=0, dilation=1, ceil_mode=False)\n",
      "      (17): Conv2d(256, 512, kernel_size=(3, 3), stride=(1, 1), padding=(1, 1))\n",
      "      (18): ReLU(inplace=True)\n",
      "      (19): Conv2d(512, 512, kernel_size=(3, 3), stride=(1, 1), padding=(1, 1))\n",
      "      (20): ReLU(inplace=True)\n",
      "      (21): Conv2d(512, 512, kernel_size=(3, 3), stride=(1, 1), padding=(1, 1))\n",
      "      (22): ReLU(inplace=True)\n",
      "      (23): MaxPool2d(kernel_size=2, stride=2, padding=0, dilation=1, ceil_mode=False)\n",
      "      (24): Conv2d(512, 512, kernel_size=(3, 3), stride=(1, 1), padding=(1, 1))\n",
      "      (25): ReLU(inplace=True)\n",
      "      (26): Conv2d(512, 512, kernel_size=(3, 3), stride=(1, 1), padding=(1, 1))\n",
      "      (27): ReLU(inplace=True)\n",
      "      (28): Conv2d(512, 512, kernel_size=(3, 3), stride=(1, 1), padding=(1, 1))\n",
      "      (29): ReLU(inplace=True)\n",
      "      (30): MaxPool2d(kernel_size=2, stride=2, padding=0, dilation=1, ceil_mode=False)\n",
      "    )\n",
      "    (avgpool): AdaptiveAvgPool2d(output_size=(7, 7))\n",
      "    (classifier): Sequential(\n",
      "      (0): Linear(in_features=25088, out_features=4096, bias=True)\n",
      "      (1): ReLU(inplace=True)\n",
      "      (2): Dropout(p=0.5, inplace=False)\n",
      "      (3): Linear(in_features=4096, out_features=4096, bias=True)\n",
      "      (4): ReLU(inplace=True)\n",
      "      (5): Dropout(p=0.5, inplace=False)\n",
      "      (6): Linear(in_features=4096, out_features=1, bias=True)\n",
      "    )\n",
      "  )\n",
      ")\n",
      "Start training...\n",
      "\n",
      "Epoch 1\n"
     ]
    },
    {
     "name": "stderr",
     "output_type": "stream",
     "text": [
      "100%|██████████| 44/44 [14:13<00:00, 19.41s/it]\n"
     ]
    },
    {
     "name": "stdout",
     "output_type": "stream",
     "text": [
      "Train loss: 26.452\t\n"
     ]
    },
    {
     "name": "stderr",
     "output_type": "stream",
     "text": [
      "100%|██████████| 10/10 [00:58<00:00,  5.89s/it]\n"
     ]
    },
    {
     "name": "stdout",
     "output_type": "stream",
     "text": [
      "Val loss: 16.040 \t\n",
      "\n",
      "Epoch 2\n"
     ]
    },
    {
     "name": "stderr",
     "output_type": "stream",
     "text": [
      "100%|██████████| 44/44 [14:10<00:00, 19.33s/it]\n"
     ]
    },
    {
     "name": "stdout",
     "output_type": "stream",
     "text": [
      "Train loss: 25.489\t\n"
     ]
    },
    {
     "name": "stderr",
     "output_type": "stream",
     "text": [
      "100%|██████████| 10/10 [00:58<00:00,  5.87s/it]\n"
     ]
    },
    {
     "name": "stdout",
     "output_type": "stream",
     "text": [
      "Val loss: 16.026 \t\n",
      "\n",
      "Epoch 3\n"
     ]
    },
    {
     "name": "stderr",
     "output_type": "stream",
     "text": [
      "100%|██████████| 44/44 [14:13<00:00, 19.40s/it]\n"
     ]
    },
    {
     "name": "stdout",
     "output_type": "stream",
     "text": [
      "Train loss: 25.313\t\n"
     ]
    },
    {
     "name": "stderr",
     "output_type": "stream",
     "text": [
      "100%|██████████| 10/10 [00:57<00:00,  5.76s/it]\n"
     ]
    },
    {
     "name": "stdout",
     "output_type": "stream",
     "text": [
      "Val loss: 16.026 \t\n",
      "\n",
      "Epoch 4\n"
     ]
    },
    {
     "name": "stderr",
     "output_type": "stream",
     "text": [
      "100%|██████████| 44/44 [14:54<00:00, 20.32s/it]\n"
     ]
    },
    {
     "name": "stdout",
     "output_type": "stream",
     "text": [
      "Train loss: 25.142\t\n"
     ]
    },
    {
     "name": "stderr",
     "output_type": "stream",
     "text": [
      "100%|██████████| 10/10 [01:05<00:00,  6.51s/it]\n"
     ]
    },
    {
     "name": "stdout",
     "output_type": "stream",
     "text": [
      "Val loss: 15.957 \t\n",
      "\n",
      "Epoch 5\n"
     ]
    },
    {
     "name": "stderr",
     "output_type": "stream",
     "text": [
      "100%|██████████| 44/44 [15:19<00:00, 20.89s/it]\n"
     ]
    },
    {
     "name": "stdout",
     "output_type": "stream",
     "text": [
      "Train loss: 25.580\t\n"
     ]
    },
    {
     "name": "stderr",
     "output_type": "stream",
     "text": [
      "100%|██████████| 10/10 [00:57<00:00,  5.76s/it]\n"
     ]
    },
    {
     "name": "stdout",
     "output_type": "stream",
     "text": [
      "Val loss: 15.947 \t\n",
      "\n",
      "Epoch 6\n"
     ]
    },
    {
     "name": "stderr",
     "output_type": "stream",
     "text": [
      "100%|██████████| 44/44 [16:27<00:00, 22.43s/it]\n"
     ]
    },
    {
     "name": "stdout",
     "output_type": "stream",
     "text": [
      "Train loss: 25.311\t\n"
     ]
    },
    {
     "name": "stderr",
     "output_type": "stream",
     "text": [
      "100%|██████████| 10/10 [00:57<00:00,  5.76s/it]\n"
     ]
    },
    {
     "name": "stdout",
     "output_type": "stream",
     "text": [
      "Val loss: 15.962 \t\n",
      "\n",
      "Epoch 7\n"
     ]
    },
    {
     "name": "stderr",
     "output_type": "stream",
     "text": [
      "100%|██████████| 44/44 [14:03<00:00, 19.16s/it]\n"
     ]
    },
    {
     "name": "stdout",
     "output_type": "stream",
     "text": [
      "Train loss: 25.046\t\n"
     ]
    },
    {
     "name": "stderr",
     "output_type": "stream",
     "text": [
      "100%|██████████| 10/10 [00:59<00:00,  5.90s/it]\n"
     ]
    },
    {
     "name": "stdout",
     "output_type": "stream",
     "text": [
      "Val loss: 16.048 \t\n",
      "\n",
      "Epoch 8\n"
     ]
    },
    {
     "name": "stderr",
     "output_type": "stream",
     "text": [
      "100%|██████████| 44/44 [16:16<00:00, 22.19s/it]\n"
     ]
    },
    {
     "name": "stdout",
     "output_type": "stream",
     "text": [
      "Train loss: 25.096\t\n"
     ]
    },
    {
     "name": "stderr",
     "output_type": "stream",
     "text": [
      "100%|██████████| 10/10 [01:12<00:00,  7.22s/it]\n"
     ]
    },
    {
     "name": "stdout",
     "output_type": "stream",
     "text": [
      "Val loss: 15.985 \t\n",
      "\n",
      "Epoch 9\n"
     ]
    },
    {
     "name": "stderr",
     "output_type": "stream",
     "text": [
      "100%|██████████| 44/44 [16:01<00:00, 21.86s/it]\n"
     ]
    },
    {
     "name": "stdout",
     "output_type": "stream",
     "text": [
      "Train loss: 25.267\t\n"
     ]
    },
    {
     "name": "stderr",
     "output_type": "stream",
     "text": [
      "100%|██████████| 10/10 [01:02<00:00,  6.29s/it]\n"
     ]
    },
    {
     "name": "stdout",
     "output_type": "stream",
     "text": [
      "Val loss: 15.943 \t\n",
      "\n",
      "Epoch 10\n"
     ]
    },
    {
     "name": "stderr",
     "output_type": "stream",
     "text": [
      "100%|██████████| 44/44 [15:05<00:00, 20.58s/it]\n"
     ]
    },
    {
     "name": "stdout",
     "output_type": "stream",
     "text": [
      "Train loss: 25.203\t\n"
     ]
    },
    {
     "name": "stderr",
     "output_type": "stream",
     "text": [
      "100%|██████████| 10/10 [00:58<00:00,  5.88s/it]\n"
     ]
    },
    {
     "name": "stdout",
     "output_type": "stream",
     "text": [
      "Val loss: 16.169 \t\n",
      "Finished\n"
     ]
    },
    {
     "data": {
      "image/png": "[encoded data removed]",
      "text/plain": [
       "<Figure size 640x480 with 2 Axes>"
      ]
     },
     "metadata": {},
     "output_type": "display_data"
    }
   ],
   "source": [
    "# Now, use a regression model to predict the number of legos in the image. Use VGG16\n",
    "\n",
    "class RegressionVGG16(nn.Module):\n",
    "    def __init__(self):\n",
    "        super(RegressionVGG16, self).__init__()\n",
    "        self.vgg = models.vgg16(pretrained=True)\n",
    "        self.vgg.classifier[6] = nn.Sequential(\n",
    "            nn.Linear(4096, 512),\n",
    "            nn.ReLU(),\n",
    "            nn.Dropout(0.5),\n",
    "            nn.Linear(512, 1)\n",
    "        )\n",
    "\n",
    "    def forward(self, x):\n",
    "        return self.vgg(x)\n",
    "    \n",
    "model = RegressionVGG16().to(device)\n",
    "print(model)\n",
    "\n",
    "# Train network for 5 epochs\n",
    "num_epochs = 10\n",
    "model_name = 'vgg16_regression'\n",
    "\n",
    "loss_fn = nn.MSELoss()\n",
    "optimizer_vgg = torch.optim.SGD(model.parameters(), lr=0.001)\n",
    "\n",
    "vgg_train_history, vgg_val_history = train(model, model_name, num_epochs, train_dataloader, validation_dataloader, loss_fn, optimizer_vgg)\n",
    "\n",
    "plotTrainingHistory(vgg_train_history, vgg_val_history, stat='mse')"
   ]
  },
  {
   "cell_type": "code",
   "execution_count": 54,
   "metadata": {},
   "outputs": [
    {
     "name": "stderr",
     "output_type": "stream",
     "text": [
      "100%|██████████| 10/10 [01:10<00:00,  7.06s/it]\n",
      "/tmp/ipykernel_83095/3069593378.py:14: DeprecationWarning: Conversion of an array with ndim > 0 to a scalar is deprecated, and will error in future. Ensure you extract a single element from your array before performing this operation. (Deprecated NumPy 1.25.)\n",
      "  print(f\"{preds[i]} {int(preds[i])} | {labels[i]},\\t\", end='')\n",
      "/tmp/ipykernel_83095/3069593378.py:24: DeprecationWarning: Conversion of an array with ndim > 0 to a scalar is deprecated, and will error in future. Ensure you extract a single element from your array before performing this operation. (Deprecated NumPy 1.25.)\n",
      "  preds = [round(float(pred))for pred in preds]\n"
     ]
    },
    {
     "name": "stdout",
     "output_type": "stream",
     "text": [
      "\n",
      "Test Loss: 21.756 \n",
      "\n",
      "[2.8143926] 2 | 1.0,\t[3.1567404] 3 | 1.0,\t[2.7356355] 2 | 2.0,\t[2.797159] 2 | 2.0,\t\n",
      "[2.7510188] 2 | 1.0,\t[2.799508] 2 | 1.0,\t[3.3749342] 3 | 5.0,\t[3.1954281] 3 | 3.0,\t\n",
      "[3.0604749] 3 | 2.0,\t[2.6488278] 2 | 1.0,\t[2.9215224] 2 | 1.0,\t[2.8498309] 2 | 1.0,\t\n",
      "[2.7184741] 2 | 2.0,\t[2.9017708] 2 | 1.0,\t[2.9004924] 2 | 2.0,\t[2.7977731] 2 | 6.0,\t\n",
      "[3.1293895] 3 | 2.0,\t[2.70102] 2 | 2.0,\t[2.7361248] 2 | 1.0,\t[2.8721302] 2 | 2.0,\t\n",
      "[2.6957645] 2 | 3.0,\t[2.7992392] 2 | 1.0,\t[2.4154658] 2 | 2.0,\t[2.6145132] 2 | 1.0,\t\n",
      "[2.7913196] 2 | 24.0,\t[2.0673556] 2 | 1.0,\t[2.9016511] 2 | 1.0,\t[3.0090094] 3 | 1.0,\t\n",
      "[2.7637303] 2 | 2.0,\t[3.0209098] 3 | 1.0,\t[2.6977878] 2 | 2.0,\t[2.7653677] 2 | 1.0,\t\n",
      "[2.9615061] 2 | 1.0,\t[2.8724787] 2 | 1.0,\t[2.785489] 2 | 1.0,\t[2.4229352] 2 | 1.0,\t\n",
      "[2.654566] 2 | 1.0,\t[2.820604] 2 | 1.0,\t[2.451141] 2 | 2.0,\t[2.933657] 2 | 2.0,\t\n",
      "[2.5457833] 2 | 2.0,\t[2.834175] 2 | 2.0,\t[2.7885406] 2 | 2.0,\t[2.6392267] 2 | 2.0,\t\n",
      "[2.5890872] 2 | 1.0,\t[2.4148657] 2 | 2.0,\t[3.0224779] 3 | 1.0,\t[2.9572623] 2 | 2.0,\t\n",
      "[2.8924408] 2 | 2.0,\t[2.327937] 2 | 2.0,\t[2.606558] 2 | 2.0,\t[2.370168] 2 | 2.0,\t\n",
      "[2.8787334] 2 | 1.0,\t[2.7927165] 2 | 1.0,\t[2.7133284] 2 | 1.0,\t[3.3188457] 3 | 30.0,\t\n",
      "[2.8519971] 2 | 2.0,\t[2.625231] 2 | 2.0,\t[3.0602171] 3 | 4.0,\t[2.8762994] 2 | 1.0,\t\n",
      "[2.7034242] 2 | 2.0,\t[2.528661] 2 | 3.0,\t[2.820887] 2 | 1.0,\t[2.867285] 2 | 1.0,\t\n",
      "[2.8795302] 2 | 2.0,\t[2.7776864] 2 | 1.0,\t[2.708937] 2 | 4.0,\t[3.2496207] 3 | 18.0,\t\n",
      "[2.819092] 2 | 1.0,\t[2.2133203] 2 | 2.0,\t[2.5940986] 2 | 2.0,\t[2.581929] 2 | 4.0,\t\n",
      "[2.911535] 2 | 8.0,\t[2.896527] 2 | 3.0,\t[3.038157] 3 | 10.0,\t[2.6832116] 2 | 2.0,\t\n",
      "[2.463854] 2 | 2.0,\t[3.019862] 3 | 1.0,\t[2.9455512] 2 | 7.0,\t[2.4792798] 2 | 1.0,\t\n",
      "[3.104881] 3 | 18.0,\t[2.5118022] 2 | 1.0,\t[2.4900172] 2 | 4.0,\t[2.7801468] 2 | 1.0,\t\n",
      "[2.771174] 2 | 1.0,\t[2.875007] 2 | 2.0,\t[2.7050025] 2 | 2.0,\t[3.1232991] 3 | 3.0,\t\n",
      "[2.5922434] 2 | 2.0,\t[2.4236467] 2 | 2.0,\t[2.5487907] 2 | 2.0,\t[3.0246775] 3 | 2.0,\t\n",
      "[2.8159487] 2 | 2.0,\t[2.8302643] 2 | 1.0,\t[2.7105508] 2 | 3.0,\t[2.4875758] 2 | 1.0,\t\n",
      "[2.8426902] 2 | 1.0,\t[3.2830613] 3 | 1.0,\t[2.7726378] 2 | 1.0,\t[2.9042397] 2 | 2.0,\t\n",
      "[3.006749] 3 | 2.0,\t[2.8372495] 2 | 1.0,\t[2.7962673] 2 | 1.0,\t[2.4075687] 2 | 2.0,\t\n",
      "[2.510558] 2 | 3.0,\t[2.7746663] 2 | 1.0,\t[2.8599463] 2 | 1.0,\t[2.9256792] 2 | 1.0,\t\n",
      "[2.9557312] 2 | 2.0,\t[3.0787609] 3 | 2.0,\t[2.9385655] 2 | 1.0,\t[2.8412406] 2 | 1.0,\t\n",
      "[3.138872] 3 | 2.0,\t[2.5893312] 2 | 1.0,\t[2.9127467] 2 | 4.0,\t[3.143512] 3 | 2.0,\t\n",
      "[3.0240805] 3 | 1.0,\t[3.1341949] 3 | 2.0,\t[2.3909662] 2 | 2.0,\t[2.7560246] 2 | 1.0,\t\n",
      "[2.761214] 2 | 1.0,\t[2.3403177] 2 | 2.0,\t[2.770068] 2 | 2.0,\t[2.8538299] 2 | 1.0,\t\n",
      "[2.54715] 2 | 1.0,\t[2.5960004] 2 | 4.0,\t[2.7711563] 2 | 1.0,\t[2.3282769] 2 | 2.0,\t\n",
      "[2.8441164] 2 | 2.0,\t[2.5442243] 2 | 1.0,\t[2.7232156] 2 | 1.0,\t[2.8180454] 2 | 1.0,\t\n",
      "[2.7657785] 2 | 1.0,\t[2.8664834] 2 | 2.0,\t[2.753653] 2 | 2.0,\t[3.105638] 3 | 2.0,\t\n",
      "[2.4618018] 2 | 3.0,\t[2.5223746] 2 | 1.0,\t[3.026398] 3 | 2.0,\t[3.016312] 3 | 1.0,\t\n",
      "[2.9877193] 2 | 1.0,\t[2.8071086] 2 | 3.0,\t[2.7260973] 2 | 2.0,\t[2.8952386] 2 | 2.0,\t\n",
      "[2.970086] 2 | 11.0,\t[2.74026] 2 | 1.0,\t[2.6810446] 2 | 3.0,\t[2.6730242] 2 | 2.0,\t\n",
      "[2.7577178] 2 | 2.0,\t[2.988063] 2 | 2.0,\t[2.7238476] 2 | 2.0,\t[2.8087428] 2 | 1.0,\t\n",
      "[2.9291556] 2 | 4.0,\t[2.7796843] 2 | 3.0,\t[2.788406] 2 | 2.0,\t[2.6525757] 2 | 3.0,\t\n",
      "[2.8628693] 2 | 1.0,\t[3.1096294] 3 | 2.0,\t[2.72051] 2 | 1.0,\t[2.951824] 2 | 9.0,\t\n",
      "[2.8172815] 2 | 2.0,\t[2.8140042] 2 | 1.0,\t[3.2369008] 3 | 1.0,\t[2.2670784] 2 | 3.0,\t\n",
      "[2.834552] 2 | 1.0,\t[3.000345] 3 | 10.0,\t[2.7342596] 2 | 2.0,\t[3.0103047] 3 | 5.0,\t\n",
      "[2.719909] 2 | 2.0,\t[2.1646297] 2 | 3.0,\t[2.3207483] 2 | 1.0,\t[2.6727836] 2 | 1.0,\t\n",
      "[2.81373] 2 | 6.0,\t[2.7034528] 2 | 1.0,\t[2.8431365] 2 | 1.0,\t[2.92089] 2 | 1.0,\t\n",
      "[3.421923] 3 | 31.0,\t[2.7392905] 2 | 1.0,\t[3.0755708] 3 | 4.0,\t[2.5536482] 2 | 1.0,\t\n",
      "[2.7559702] 2 | 3.0,\t[2.7423413] 2 | 1.0,\t[3.17225] 3 | 1.0,\t[3.0588982] 3 | 2.0,\t\n",
      "[2.400436] 2 | 3.0,\t[2.7613456] 2 | 1.0,\t[3.0116603] 3 | 4.0,\t[2.621969] 2 | 2.0,\t\n",
      "[2.7811348] 2 | 1.0,\t[3.2410672] 3 | 15.0,\t[3.4259615] 3 | 15.0,\t[3.0384471] 3 | 1.0,\t\n",
      "[2.2197404] 2 | 1.0,\t[2.759608] 2 | 5.0,\t[2.6657565] 2 | 1.0,\t[3.2669668] 3 | 18.0,\t\n",
      "[2.9729688] 2 | 9.0,\t[3.0302482] 3 | 2.0,\t[3.2898953] 3 | 3.0,\t[3.2242475] 3 | 2.0,\t\n",
      "[2.7655795] 2 | 2.0,\t[2.565849] 2 | 1.0,\t[3.3183334] 3 | 2.0,\t[2.7420738] 2 | 5.0,\t\n",
      "[2.6789238] 2 | 1.0,\t[2.3921769] 2 | 2.0,\t[2.8981826] 2 | 2.0,\t[2.6246316] 2 | 2.0,\t\n",
      "[2.3688357] 2 | 2.0,\t[2.6456482] 2 | 1.0,\t[2.8552969] 2 | 2.0,\t[2.6990888] 2 | 1.0,\t\n",
      "[2.4685314] 2 | 1.0,\t[2.2427008] 2 | 2.0,\t[2.7576487] 2 | 1.0,\t[2.7644565] 2 | 1.0,\t\n",
      "[2.9240077] 2 | 2.0,\t[2.6892211] 2 | 2.0,\t[2.6191719] 2 | 3.0,\t[3.0096233] 3 | 3.0,\t\n",
      "[2.6583188] 2 | 1.0,\t[2.280622] 2 | 1.0,\t[3.0455828] 3 | 1.0,\t[3.0078495] 3 | 9.0,\t\n",
      "[2.764818] 2 | 2.0,\t[2.7289088] 2 | 7.0,\t[2.9230876] 2 | 4.0,\t[2.811425] 2 | 1.0,\t\n",
      "[2.9037864] 2 | 1.0,\t[2.3076477] 2 | 2.0,\t[2.9361713] 2 | 1.0,\t[2.7866538] 2 | 1.0,\t\n",
      "[3.110412] 3 | 1.0,\t[3.0457158] 3 | 2.0,\t[2.7283466] 2 | 1.0,\t[3.091246] 3 | 1.0,\t\n",
      "[2.8826983] 2 | 4.0,\t[2.8322725] 2 | 1.0,\t[2.8145034] 2 | 5.0,\t[2.6160805] 2 | 2.0,\t\n",
      "[2.933363] 2 | 1.0,\t[2.727023] 2 | 1.0,\t[2.7147455] 2 | 4.0,\t[2.991105] 2 | 2.0,\t\n",
      "[2.6445258] 2 | 2.0,\t[2.5728385] 2 | 2.0,\t[2.1952047] 2 | 1.0,\t[2.9367807] 2 | 2.0,\t\n",
      "[2.9284694] 2 | 2.0,\t[2.8501217] 2 | 1.0,\t[2.6818457] 2 | 2.0,\t[2.4307017] 2 | 3.0,\t\n",
      "[2.8792984] 2 | 2.0,\t[3.2181132] 3 | 3.0,\t[3.3845084] 3 | 23.0,\t[2.852451] 2 | 1.0,\t\n",
      "[2.6268585] 2 | 1.0,\t[2.5224063] 2 | 1.0,\t[2.898694] 2 | 1.0,\t[2.5597904] 2 | 1.0,\t\n",
      "[3.0508816] 3 | 1.0,\t[2.7239547] 2 | 2.0,\t[2.967283] 2 | 3.0,\t[3.2355614] 3 | 26.0,\t\n",
      "[2.6000674] 2 | 4.0,\t[2.972313] 2 | 2.0,\t[2.1224363] 2 | 2.0,\t[2.7828002] 2 | 1.0,\t\n",
      "[3.109354] 3 | 2.0,\t[2.9133604] 2 | 1.0,\t[3.0124378] 3 | 1.0,\t[2.8528602] 2 | 4.0,\t\n",
      "[2.7495458] 2 | 1.0,\t[2.936601] 2 | 2.0,\t[2.623484] 2 | 3.0,\t[2.66804] 2 | 10.0,\t\n",
      "[2.492992] 2 | 2.0,\t[2.850732] 2 | 1.0,\t[2.821923] 2 | 2.0,\t[2.9136226] 2 | 1.0,\t\n",
      "[2.3819966] 2 | 2.0,\t[2.7722082] 2 | 1.0,\t[2.937136] 2 | 1.0,\t[2.8146574] 2 | 1.0,\t\n",
      "[3.1053917] 3 | 10.0,\t[2.7605069] 2 | 1.0,\t[2.9041913] 2 | 1.0,\t[3.356767] 3 | 30.0,\t\n",
      "[3.0937548] 3 | 1.0,\t[3.3131573] 3 | 23.0,\t[2.6207538] 2 | 1.0,\t[2.8383443] 2 | 2.0,\t\n",
      "[2.8766067] 2 | 1.0,\t[3.0662758] 3 | 11.0,\t[2.9586704] 2 | 2.0,\t[2.5775766] 2 | 3.0,\t\n",
      "[2.3191054] 2 | 2.0,\t[2.9581542] 2 | 2.0,\t[2.8126261] 2 | 2.0,\t[3.4770305] 3 | 1.0,\t\n",
      "HEy\n",
      "[array([2.8143926], dtype=float32), array([3.1567404], dtype=float32), array([2.7356355], dtype=float32), array([2.797159], dtype=float32), array([2.7510188], dtype=float32), array([2.799508], dtype=float32), array([3.3749342], dtype=float32), array([3.1954281], dtype=float32), array([3.0604749], dtype=float32), array([2.6488278], dtype=float32), array([2.9215224], dtype=float32), array([2.8498309], dtype=float32), array([2.7184741], dtype=float32), array([2.9017708], dtype=float32), array([2.9004924], dtype=float32), array([2.7977731], dtype=float32), array([3.1293895], dtype=float32), array([2.70102], dtype=float32), array([2.7361248], dtype=float32), array([2.8721302], dtype=float32), array([2.6957645], dtype=float32), array([2.7992392], dtype=float32), array([2.4154658], dtype=float32), array([2.6145132], dtype=float32), array([2.7913196], dtype=float32), array([2.0673556], dtype=float32), array([2.9016511], dtype=float32), array([3.0090094], dtype=float32), array([2.7637303], dtype=float32), array([3.0209098], dtype=float32), array([2.6977878], dtype=float32), array([2.7653677], dtype=float32), array([2.9615061], dtype=float32), array([2.8724787], dtype=float32), array([2.785489], dtype=float32), array([2.4229352], dtype=float32), array([2.654566], dtype=float32), array([2.820604], dtype=float32), array([2.451141], dtype=float32), array([2.933657], dtype=float32), array([2.5457833], dtype=float32), array([2.834175], dtype=float32), array([2.7885406], dtype=float32), array([2.6392267], dtype=float32), array([2.5890872], dtype=float32), array([2.4148657], dtype=float32), array([3.0224779], dtype=float32), array([2.9572623], dtype=float32), array([2.8924408], dtype=float32), array([2.327937], dtype=float32), array([2.606558], dtype=float32), array([2.370168], dtype=float32), array([2.8787334], dtype=float32), array([2.7927165], dtype=float32), array([2.7133284], dtype=float32), array([3.3188457], dtype=float32), array([2.8519971], dtype=float32), array([2.625231], dtype=float32), array([3.0602171], dtype=float32), array([2.8762994], dtype=float32), array([2.7034242], dtype=float32), array([2.528661], dtype=float32), array([2.820887], dtype=float32), array([2.867285], dtype=float32), array([2.8795302], dtype=float32), array([2.7776864], dtype=float32), array([2.708937], dtype=float32), array([3.2496207], dtype=float32), array([2.819092], dtype=float32), array([2.2133203], dtype=float32), array([2.5940986], dtype=float32), array([2.581929], dtype=float32), array([2.911535], dtype=float32), array([2.896527], dtype=float32), array([3.038157], dtype=float32), array([2.6832116], dtype=float32), array([2.463854], dtype=float32), array([3.019862], dtype=float32), array([2.9455512], dtype=float32), array([2.4792798], dtype=float32), array([3.104881], dtype=float32), array([2.5118022], dtype=float32), array([2.4900172], dtype=float32), array([2.7801468], dtype=float32), array([2.771174], dtype=float32), array([2.875007], dtype=float32), array([2.7050025], dtype=float32), array([3.1232991], dtype=float32), array([2.5922434], dtype=float32), array([2.4236467], dtype=float32), array([2.5487907], dtype=float32), array([3.0246775], dtype=float32), array([2.8159487], dtype=float32), array([2.8302643], dtype=float32), array([2.7105508], dtype=float32), array([2.4875758], dtype=float32), array([2.8426902], dtype=float32), array([3.2830613], dtype=float32), array([2.7726378], dtype=float32), array([2.9042397], dtype=float32), array([3.006749], dtype=float32), array([2.8372495], dtype=float32), array([2.7962673], dtype=float32), array([2.4075687], dtype=float32), array([2.510558], dtype=float32), array([2.7746663], dtype=float32), array([2.8599463], dtype=float32), array([2.9256792], dtype=float32), array([2.9557312], dtype=float32), array([3.0787609], dtype=float32), array([2.9385655], dtype=float32), array([2.8412406], dtype=float32), array([3.138872], dtype=float32), array([2.5893312], dtype=float32), array([2.9127467], dtype=float32), array([3.143512], dtype=float32), array([3.0240805], dtype=float32), array([3.1341949], dtype=float32), array([2.3909662], dtype=float32), array([2.7560246], dtype=float32), array([2.761214], dtype=float32), array([2.3403177], dtype=float32), array([2.770068], dtype=float32), array([2.8538299], dtype=float32), array([2.54715], dtype=float32), array([2.5960004], dtype=float32), array([2.7711563], dtype=float32), array([2.3282769], dtype=float32), array([2.8441164], dtype=float32), array([2.5442243], dtype=float32), array([2.7232156], dtype=float32), array([2.8180454], dtype=float32), array([2.7657785], dtype=float32), array([2.8664834], dtype=float32), array([2.753653], dtype=float32), array([3.105638], dtype=float32), array([2.4618018], dtype=float32), array([2.5223746], dtype=float32), array([3.026398], dtype=float32), array([3.016312], dtype=float32), array([2.9877193], dtype=float32), array([2.8071086], dtype=float32), array([2.7260973], dtype=float32), array([2.8952386], dtype=float32), array([2.970086], dtype=float32), array([2.74026], dtype=float32), array([2.6810446], dtype=float32), array([2.6730242], dtype=float32), array([2.7577178], dtype=float32), array([2.988063], dtype=float32), array([2.7238476], dtype=float32), array([2.8087428], dtype=float32), array([2.9291556], dtype=float32), array([2.7796843], dtype=float32), array([2.788406], dtype=float32), array([2.6525757], dtype=float32), array([2.8628693], dtype=float32), array([3.1096294], dtype=float32), array([2.72051], dtype=float32), array([2.951824], dtype=float32), array([2.8172815], dtype=float32), array([2.8140042], dtype=float32), array([3.2369008], dtype=float32), array([2.2670784], dtype=float32), array([2.834552], dtype=float32), array([3.000345], dtype=float32), array([2.7342596], dtype=float32), array([3.0103047], dtype=float32), array([2.719909], dtype=float32), array([2.1646297], dtype=float32), array([2.3207483], dtype=float32), array([2.6727836], dtype=float32), array([2.81373], dtype=float32), array([2.7034528], dtype=float32), array([2.8431365], dtype=float32), array([2.92089], dtype=float32), array([3.421923], dtype=float32), array([2.7392905], dtype=float32), array([3.0755708], dtype=float32), array([2.5536482], dtype=float32), array([2.7559702], dtype=float32), array([2.7423413], dtype=float32), array([3.17225], dtype=float32), array([3.0588982], dtype=float32), array([2.400436], dtype=float32), array([2.7613456], dtype=float32), array([3.0116603], dtype=float32), array([2.621969], dtype=float32), array([2.7811348], dtype=float32), array([3.2410672], dtype=float32), array([3.4259615], dtype=float32), array([3.0384471], dtype=float32), array([2.2197404], dtype=float32), array([2.759608], dtype=float32), array([2.6657565], dtype=float32), array([3.2669668], dtype=float32), array([2.9729688], dtype=float32), array([3.0302482], dtype=float32), array([3.2898953], dtype=float32), array([3.2242475], dtype=float32), array([2.7655795], dtype=float32), array([2.565849], dtype=float32), array([3.3183334], dtype=float32), array([2.7420738], dtype=float32), array([2.6789238], dtype=float32), array([2.3921769], dtype=float32), array([2.8981826], dtype=float32), array([2.6246316], dtype=float32), array([2.3688357], dtype=float32), array([2.6456482], dtype=float32), array([2.8552969], dtype=float32), array([2.6990888], dtype=float32), array([2.4685314], dtype=float32), array([2.2427008], dtype=float32), array([2.7576487], dtype=float32), array([2.7644565], dtype=float32), array([2.9240077], dtype=float32), array([2.6892211], dtype=float32), array([2.6191719], dtype=float32), array([3.0096233], dtype=float32), array([2.6583188], dtype=float32), array([2.280622], dtype=float32), array([3.0455828], dtype=float32), array([3.0078495], dtype=float32), array([2.764818], dtype=float32), array([2.7289088], dtype=float32), array([2.9230876], dtype=float32), array([2.811425], dtype=float32), array([2.9037864], dtype=float32), array([2.3076477], dtype=float32), array([2.9361713], dtype=float32), array([2.7866538], dtype=float32), array([3.110412], dtype=float32), array([3.0457158], dtype=float32), array([2.7283466], dtype=float32), array([3.091246], dtype=float32), array([2.8826983], dtype=float32), array([2.8322725], dtype=float32), array([2.8145034], dtype=float32), array([2.6160805], dtype=float32), array([2.933363], dtype=float32), array([2.727023], dtype=float32), array([2.7147455], dtype=float32), array([2.991105], dtype=float32), array([2.6445258], dtype=float32), array([2.5728385], dtype=float32), array([2.1952047], dtype=float32), array([2.9367807], dtype=float32), array([2.9284694], dtype=float32), array([2.8501217], dtype=float32), array([2.6818457], dtype=float32), array([2.4307017], dtype=float32), array([2.8792984], dtype=float32), array([3.2181132], dtype=float32), array([3.3845084], dtype=float32), array([2.852451], dtype=float32), array([2.6268585], dtype=float32), array([2.5224063], dtype=float32), array([2.898694], dtype=float32), array([2.5597904], dtype=float32), array([3.0508816], dtype=float32), array([2.7239547], dtype=float32), array([2.967283], dtype=float32), array([3.2355614], dtype=float32), array([2.6000674], dtype=float32), array([2.972313], dtype=float32), array([2.1224363], dtype=float32), array([2.7828002], dtype=float32), array([3.109354], dtype=float32), array([2.9133604], dtype=float32), array([3.0124378], dtype=float32), array([2.8528602], dtype=float32), array([2.7495458], dtype=float32), array([2.936601], dtype=float32), array([2.623484], dtype=float32), array([2.66804], dtype=float32), array([2.492992], dtype=float32), array([2.850732], dtype=float32), array([2.821923], dtype=float32), array([2.9136226], dtype=float32), array([2.3819966], dtype=float32), array([2.7722082], dtype=float32), array([2.937136], dtype=float32), array([2.8146574], dtype=float32), array([3.1053917], dtype=float32), array([2.7605069], dtype=float32), array([2.9041913], dtype=float32), array([3.356767], dtype=float32), array([3.0937548], dtype=float32), array([3.3131573], dtype=float32), array([2.6207538], dtype=float32), array([2.8383443], dtype=float32), array([2.8766067], dtype=float32), array([3.0662758], dtype=float32), array([2.9586704], dtype=float32), array([2.5775766], dtype=float32), array([2.3191054], dtype=float32), array([2.9581542], dtype=float32), array([2.8126261], dtype=float32), array([3.4770305], dtype=float32)]\n",
      "HEy2\n",
      "[1.0, 1.0, 2.0, 2.0, 1.0, 1.0, 5.0, 3.0, 2.0, 1.0, 1.0, 1.0, 2.0, 1.0, 2.0, 6.0, 2.0, 2.0, 1.0, 2.0, 3.0, 1.0, 2.0, 1.0, 24.0, 1.0, 1.0, 1.0, 2.0, 1.0, 2.0, 1.0, 1.0, 1.0, 1.0, 1.0, 1.0, 1.0, 2.0, 2.0, 2.0, 2.0, 2.0, 2.0, 1.0, 2.0, 1.0, 2.0, 2.0, 2.0, 2.0, 2.0, 1.0, 1.0, 1.0, 30.0, 2.0, 2.0, 4.0, 1.0, 2.0, 3.0, 1.0, 1.0, 2.0, 1.0, 4.0, 18.0, 1.0, 2.0, 2.0, 4.0, 8.0, 3.0, 10.0, 2.0, 2.0, 1.0, 7.0, 1.0, 18.0, 1.0, 4.0, 1.0, 1.0, 2.0, 2.0, 3.0, 2.0, 2.0, 2.0, 2.0, 2.0, 1.0, 3.0, 1.0, 1.0, 1.0, 1.0, 2.0, 2.0, 1.0, 1.0, 2.0, 3.0, 1.0, 1.0, 1.0, 2.0, 2.0, 1.0, 1.0, 2.0, 1.0, 4.0, 2.0, 1.0, 2.0, 2.0, 1.0, 1.0, 2.0, 2.0, 1.0, 1.0, 4.0, 1.0, 2.0, 2.0, 1.0, 1.0, 1.0, 1.0, 2.0, 2.0, 2.0, 3.0, 1.0, 2.0, 1.0, 1.0, 3.0, 2.0, 2.0, 11.0, 1.0, 3.0, 2.0, 2.0, 2.0, 2.0, 1.0, 4.0, 3.0, 2.0, 3.0, 1.0, 2.0, 1.0, 9.0, 2.0, 1.0, 1.0, 3.0, 1.0, 10.0, 2.0, 5.0, 2.0, 3.0, 1.0, 1.0, 6.0, 1.0, 1.0, 1.0, 31.0, 1.0, 4.0, 1.0, 3.0, 1.0, 1.0, 2.0, 3.0, 1.0, 4.0, 2.0, 1.0, 15.0, 15.0, 1.0, 1.0, 5.0, 1.0, 18.0, 9.0, 2.0, 3.0, 2.0, 2.0, 1.0, 2.0, 5.0, 1.0, 2.0, 2.0, 2.0, 2.0, 1.0, 2.0, 1.0, 1.0, 2.0, 1.0, 1.0, 2.0, 2.0, 3.0, 3.0, 1.0, 1.0, 1.0, 9.0, 2.0, 7.0, 4.0, 1.0, 1.0, 2.0, 1.0, 1.0, 1.0, 2.0, 1.0, 1.0, 4.0, 1.0, 5.0, 2.0, 1.0, 1.0, 4.0, 2.0, 2.0, 2.0, 1.0, 2.0, 2.0, 1.0, 2.0, 3.0, 2.0, 3.0, 23.0, 1.0, 1.0, 1.0, 1.0, 1.0, 1.0, 2.0, 3.0, 26.0, 4.0, 2.0, 2.0, 1.0, 2.0, 1.0, 1.0, 4.0, 1.0, 2.0, 3.0, 10.0, 2.0, 1.0, 2.0, 1.0, 2.0, 1.0, 1.0, 1.0, 10.0, 1.0, 1.0, 30.0, 1.0, 23.0, 1.0, 2.0, 1.0, 11.0, 2.0, 3.0, 2.0, 2.0, 2.0, 1.0]\n",
      "HEy3\n",
      "[[  0.   9. 118. ...   0.   0.   0.]\n",
      " [  0.  20.  84. ...   0.   0.   0.]\n",
      " [  0.   5.  19. ...   0.   0.   0.]\n",
      " ...\n",
      " [  0.   0.   2. ...   0.   0.   0.]\n",
      " [  0.   0.   1. ...   0.   0.   0.]\n",
      " [  0.   0.   0. ...   0.   0.   0.]]\n"
     ]
    },
    {
     "data": {
      "image/png": "[encoded data removed]",
      "text/plain": [
       "<Figure size 1200x1200 with 2 Axes>"
      ]
     },
     "metadata": {},
     "output_type": "display_data"
    },
    {
     "name": "stdout",
     "output_type": "stream",
     "text": [
      "Number of errors: 261\n",
      "Total number of images: 300\n",
      "3 | 1,\t\n",
      "3 | 1,\t\n",
      "3 | 2,\t\n",
      "3 | 2,\t\n",
      "3 | 1,\t\n",
      "3 | 1,\t\n",
      "3 | 5,\t\n",
      "3 | 3,\t\n",
      "3 | 2,\t\n",
      "3 | 1,\t\n",
      "3 | 1,\t\n",
      "3 | 1,\t\n",
      "3 | 2,\t\n",
      "3 | 1,\t\n",
      "3 | 2,\t\n",
      "3 | 6,\t\n",
      "3 | 2,\t\n",
      "3 | 2,\t\n",
      "3 | 1,\t\n",
      "3 | 2,\t\n",
      "3 | 3,\t\n",
      "3 | 1,\t\n",
      "2 | 2,\t\n",
      "3 | 1,\t\n",
      "3 | 24,\t\n",
      "2 | 1,\t\n",
      "3 | 1,\t\n",
      "3 | 1,\t\n",
      "3 | 2,\t\n",
      "3 | 1,\t\n",
      "3 | 2,\t\n",
      "3 | 1,\t\n",
      "3 | 1,\t\n",
      "3 | 1,\t\n",
      "3 | 1,\t\n",
      "2 | 1,\t\n",
      "3 | 1,\t\n",
      "3 | 1,\t\n",
      "2 | 2,\t\n",
      "3 | 2,\t\n",
      "3 | 2,\t\n",
      "3 | 2,\t\n",
      "3 | 2,\t\n",
      "3 | 2,\t\n",
      "3 | 1,\t\n",
      "2 | 2,\t\n",
      "3 | 1,\t\n",
      "3 | 2,\t\n",
      "3 | 2,\t\n",
      "2 | 2,\t\n",
      "3 | 2,\t\n",
      "2 | 2,\t\n",
      "3 | 1,\t\n",
      "3 | 1,\t\n",
      "3 | 1,\t\n",
      "3 | 30,\t\n",
      "3 | 2,\t\n",
      "3 | 2,\t\n",
      "3 | 4,\t\n",
      "3 | 1,\t\n",
      "3 | 2,\t\n",
      "3 | 3,\t\n",
      "3 | 1,\t\n",
      "3 | 1,\t\n",
      "3 | 2,\t\n",
      "3 | 1,\t\n",
      "3 | 4,\t\n",
      "3 | 18,\t\n",
      "3 | 1,\t\n",
      "2 | 2,\t\n",
      "3 | 2,\t\n",
      "3 | 4,\t\n",
      "3 | 8,\t\n",
      "3 | 3,\t\n",
      "3 | 10,\t\n",
      "3 | 2,\t\n",
      "2 | 2,\t\n",
      "3 | 1,\t\n",
      "3 | 7,\t\n",
      "2 | 1,\t\n",
      "3 | 18,\t\n",
      "3 | 1,\t\n",
      "2 | 4,\t\n",
      "3 | 1,\t\n",
      "3 | 1,\t\n",
      "3 | 2,\t\n",
      "3 | 2,\t\n",
      "3 | 3,\t\n",
      "3 | 2,\t\n",
      "2 | 2,\t\n",
      "3 | 2,\t\n",
      "3 | 2,\t\n",
      "3 | 2,\t\n",
      "3 | 1,\t\n",
      "3 | 3,\t\n",
      "2 | 1,\t\n",
      "3 | 1,\t\n",
      "3 | 1,\t\n",
      "3 | 1,\t\n",
      "3 | 2,\t\n",
      "3 | 2,\t\n",
      "3 | 1,\t\n",
      "3 | 1,\t\n",
      "2 | 2,\t\n",
      "3 | 3,\t\n",
      "3 | 1,\t\n",
      "3 | 1,\t\n",
      "3 | 1,\t\n",
      "3 | 2,\t\n",
      "3 | 2,\t\n",
      "3 | 1,\t\n",
      "3 | 1,\t\n",
      "3 | 2,\t\n",
      "3 | 1,\t\n",
      "3 | 4,\t\n",
      "3 | 2,\t\n",
      "3 | 1,\t\n",
      "3 | 2,\t\n",
      "2 | 2,\t\n",
      "3 | 1,\t\n",
      "3 | 1,\t\n",
      "2 | 2,\t\n",
      "3 | 2,\t\n",
      "3 | 1,\t\n",
      "3 | 1,\t\n",
      "3 | 4,\t\n",
      "3 | 1,\t\n",
      "2 | 2,\t\n",
      "3 | 2,\t\n",
      "3 | 1,\t\n",
      "3 | 1,\t\n",
      "3 | 1,\t\n",
      "3 | 1,\t\n",
      "3 | 2,\t\n",
      "3 | 2,\t\n",
      "3 | 2,\t\n",
      "2 | 3,\t\n",
      "3 | 1,\t\n",
      "3 | 2,\t\n",
      "3 | 1,\t\n",
      "3 | 1,\t\n",
      "3 | 3,\t\n",
      "3 | 2,\t\n",
      "3 | 2,\t\n",
      "3 | 11,\t\n",
      "3 | 1,\t\n",
      "3 | 3,\t\n",
      "3 | 2,\t\n",
      "3 | 2,\t\n",
      "3 | 2,\t\n",
      "3 | 2,\t\n",
      "3 | 1,\t\n",
      "3 | 4,\t\n",
      "3 | 3,\t\n",
      "3 | 2,\t\n",
      "3 | 3,\t\n",
      "3 | 1,\t\n",
      "3 | 2,\t\n",
      "3 | 1,\t\n",
      "3 | 9,\t\n",
      "3 | 2,\t\n",
      "3 | 1,\t\n",
      "3 | 1,\t\n",
      "2 | 3,\t\n",
      "3 | 1,\t\n",
      "3 | 10,\t\n",
      "3 | 2,\t\n",
      "3 | 5,\t\n",
      "3 | 2,\t\n",
      "2 | 3,\t\n",
      "2 | 1,\t\n",
      "3 | 1,\t\n",
      "3 | 6,\t\n",
      "3 | 1,\t\n",
      "3 | 1,\t\n",
      "3 | 1,\t\n",
      "3 | 31,\t\n",
      "3 | 1,\t\n",
      "3 | 4,\t\n",
      "3 | 1,\t\n",
      "3 | 3,\t\n",
      "3 | 1,\t\n",
      "3 | 1,\t\n",
      "3 | 2,\t\n",
      "2 | 3,\t\n",
      "3 | 1,\t\n",
      "3 | 4,\t\n",
      "3 | 2,\t\n",
      "3 | 1,\t\n",
      "3 | 15,\t\n",
      "3 | 15,\t\n",
      "3 | 1,\t\n",
      "2 | 1,\t\n",
      "3 | 5,\t\n",
      "3 | 1,\t\n",
      "3 | 18,\t\n",
      "3 | 9,\t\n",
      "3 | 2,\t\n",
      "3 | 3,\t\n",
      "3 | 2,\t\n",
      "3 | 2,\t\n",
      "3 | 1,\t\n",
      "3 | 2,\t\n",
      "3 | 5,\t\n",
      "3 | 1,\t\n",
      "2 | 2,\t\n",
      "3 | 2,\t\n",
      "3 | 2,\t\n",
      "2 | 2,\t\n",
      "3 | 1,\t\n",
      "3 | 2,\t\n",
      "3 | 1,\t\n",
      "2 | 1,\t\n",
      "2 | 2,\t\n",
      "3 | 1,\t\n",
      "3 | 1,\t\n",
      "3 | 2,\t\n",
      "3 | 2,\t\n",
      "3 | 3,\t\n",
      "3 | 3,\t\n",
      "3 | 1,\t\n",
      "2 | 1,\t\n",
      "3 | 1,\t\n",
      "3 | 9,\t\n",
      "3 | 2,\t\n",
      "3 | 7,\t\n",
      "3 | 4,\t\n",
      "3 | 1,\t\n",
      "3 | 1,\t\n",
      "2 | 2,\t\n",
      "3 | 1,\t\n",
      "3 | 1,\t\n",
      "3 | 1,\t\n",
      "3 | 2,\t\n",
      "3 | 1,\t\n",
      "3 | 1,\t\n",
      "3 | 4,\t\n",
      "3 | 1,\t\n",
      "3 | 5,\t\n",
      "3 | 2,\t\n",
      "3 | 1,\t\n",
      "3 | 1,\t\n",
      "3 | 4,\t\n",
      "3 | 2,\t\n",
      "3 | 2,\t\n",
      "3 | 2,\t\n",
      "2 | 1,\t\n",
      "3 | 2,\t\n",
      "3 | 2,\t\n",
      "3 | 1,\t\n",
      "3 | 2,\t\n",
      "2 | 3,\t\n",
      "3 | 2,\t\n",
      "3 | 3,\t\n",
      "3 | 23,\t\n",
      "3 | 1,\t\n",
      "3 | 1,\t\n",
      "3 | 1,\t\n",
      "3 | 1,\t\n",
      "3 | 1,\t\n",
      "3 | 1,\t\n",
      "3 | 2,\t\n",
      "3 | 3,\t\n",
      "3 | 26,\t\n",
      "3 | 4,\t\n",
      "3 | 2,\t\n",
      "2 | 2,\t\n",
      "3 | 1,\t\n",
      "3 | 2,\t\n",
      "3 | 1,\t\n",
      "3 | 1,\t\n",
      "3 | 4,\t\n",
      "3 | 1,\t\n",
      "3 | 2,\t\n",
      "3 | 3,\t\n",
      "3 | 10,\t\n",
      "2 | 2,\t\n",
      "3 | 1,\t\n",
      "3 | 2,\t\n",
      "3 | 1,\t\n",
      "2 | 2,\t\n",
      "3 | 1,\t\n",
      "3 | 1,\t\n",
      "3 | 1,\t\n",
      "3 | 10,\t\n",
      "3 | 1,\t\n",
      "3 | 1,\t\n",
      "3 | 30,\t\n",
      "3 | 1,\t\n",
      "3 | 23,\t\n",
      "3 | 1,\t\n",
      "3 | 2,\t\n",
      "3 | 1,\t\n",
      "3 | 11,\t\n",
      "3 | 2,\t\n",
      "3 | 3,\t\n",
      "2 | 2,\t\n",
      "3 | 2,\t\n",
      "3 | 2,\t\n",
      "3 | 1,\t\n"
     ]
    }
   ],
   "source": [
    "# Testing\n",
    "model = RegressionVGG16().to(device)\n",
    "checkpoint = torch.load(\"models/\" + model_name + '_best_model.pth')\n",
    "model.load_state_dict(checkpoint['model'])\n",
    "\n",
    "# Test model\n",
    "preds = []\n",
    "labels = []\n",
    "test_loss = epoch_iter(test_dataloader, model, loss_fn, is_train=False, preds=preds, labels=labels)\n",
    "print(f\"\\nTest Loss: {test_loss:.3f} \\n\")\n",
    "\n",
    "\n",
    "for i in range(len(preds)):\n",
    "    print(f\"{preds[i]} {int(preds[i])} | {labels[i]},\\t\", end='')\n",
    "    if (i+1) % 4 == 0:\n",
    "        print()\n",
    "\n",
    "print(\"HEy\")\n",
    "print(preds)\n",
    "print(\"HEy2\")\n",
    "print(labels)\n",
    "print(\"HEy3\")\n",
    "# Convert the predictions to integers\n",
    "preds = [round(float(pred))for pred in preds]\n",
    "labels = [round(float(label)) for label in labels]\n",
    "\n",
    "# Confusion matrix with the number in each cell\n",
    "confusion_matrix = buildConfusionMatrix(preds, labels)\n",
    "print(confusion_matrix)\n",
    "# Display confusion matrix\n",
    "display_confusion_matrix(confusion_matrix)\n",
    "\n",
    "# Print How many errors we have\n",
    "errors = 0\n",
    "for i in range(len(preds)):\n",
    "    if preds[i] != labels[i]:\n",
    "        errors += 1\n",
    "print(f\"Number of errors: {errors}\")\n",
    "print(f\"Total number of images: {len(preds)}\")\n",
    "\n",
    "# Show some prediction errors\n",
    "for i in range(len(preds)):\n",
    "    print(f\"{preds[i]} | {labels[i]},\\t\")"
   ]
  }
 ],
 "metadata": {
  "kernelspec": {
   "display_name": "Python 3",
   "language": "python",
   "name": "python3"
  },
  "language_info": {
   "codemirror_mode": {
    "name": "ipython",
    "version": 3
   },
   "file_extension": ".py",
   "mimetype": "text/x-python",
   "name": "python",
   "nbconvert_exporter": "python",
   "pygments_lexer": "ipython3",
   "version": "3.10.12"
  }
 },
 "nbformat": 4,
 "nbformat_minor": 2
}
