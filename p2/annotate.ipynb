{
 "cells": [
  {
   "cell_type": "code",
   "execution_count": null,
   "metadata": {},
   "outputs": [],
   "source": [
    "# Import necessary libraries\n",
    "import torch\n",
    "from torch.utils.data import DataLoader, Dataset\n",
    "from torchvision import transforms\n",
    "from tqdm import tqdm\n",
    "import ultralytics\n",
    "import os\n",
    "import matplotlib.pyplot as plt\n",
    "import numpy as np\n",
    "np.random.seed(42)\n",
    "import pandas as pd\n",
    "import cv2\n",
    "from IPython.display import Image\n",
    "from ultralytics import YOLO\n",
    "\n",
    "ultralytics.checks()\n",
    "\n",
    "\n",
    "def render(image):\n",
    "    if image.dtype == np.float64:\n",
    "        image = cv2.convertScaleAbs(image)\n",
    "    if len(image.shape) == 3 and image.shape[2] == 3: # BGR or RGB\n",
    "        if np.array_equal(image[:, :, 0], image[:, :, 2]):\n",
    "            image = cv2.cvtColor(image, cv2.COLOR_BGR2RGB)\n",
    "    img_bytes = cv2.imencode('.png', image)[1].tobytes()\n",
    "    display(Image(data=img_bytes))\n",
    "    \n",
    "    \n",
    "def run_yolo(yolo, image_url, conf=0.25, iou=0.7):\n",
    "    results = yolo(image_url, conf=conf, iou=iou)\n",
    "    res = results[0].plot()[:, :, [2,1,0]]\n",
    "    res = cv2.cvtColor(res, cv2.COLOR_BGR2RGB)\n",
    "    return res"
   ]
  },
  {
   "cell_type": "code",
   "execution_count": null,
   "metadata": {},
   "outputs": [],
   "source": [
    "yolo = YOLO('yolov8s.pt')\n",
    "image_url = 'datasets/images/train/G0010117.JPG'\n",
    "render(run_yolo(yolo, image_url))"
   ]
  },
  {
   "cell_type": "code",
   "execution_count": null,
   "metadata": {},
   "outputs": [],
   "source": [
    "\n",
    "yolo.train(data='yolo_config.yaml', epochs=2)\n",
    "valid_results = yolo.val()\n",
    "print(valid_results)\n",
    "yolo = YOLO('runs/detect/train/weights/best.pt')\n",
    "\n",
    "render(run_yolo(yolo, image_url))"
   ]
  }
 ],
 "metadata": {
  "kernelspec": {
   "display_name": "Python 3",
   "language": "python",
   "name": "python3"
  },
  "language_info": {
   "codemirror_mode": {
    "name": "ipython",
    "version": 3
   },
   "file_extension": ".py",
   "mimetype": "text/x-python",
   "name": "python",
   "nbconvert_exporter": "python",
   "pygments_lexer": "ipython3",
   "version": "3.10.12"
  }
 },
 "nbformat": 4,
 "nbformat_minor": 2
}
