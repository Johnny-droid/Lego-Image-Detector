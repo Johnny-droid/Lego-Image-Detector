{
 "cells": [
  {
   "cell_type": "markdown",
   "metadata": {},
   "source": [
    "# Task 3"
   ]
  },
  {
   "cell_type": "markdown",
   "metadata": {},
   "source": [
    "## Imports"
   ]
  },
  {
   "cell_type": "code",
   "execution_count": null,
   "metadata": {},
   "outputs": [],
   "source": [
    "import ultralytics\n",
    "import os\n",
    "import matplotlib.pyplot as plt\n",
    "import numpy as np\n",
    "np.random.seed(42)\n",
    "import pandas as pd\n",
    "import cv2\n",
    "from IPython.display import Image\n",
    "from ultralytics import YOLO\n",
    "\n",
    "ultralytics.checks()"
   ]
  },
  {
   "cell_type": "markdown",
   "metadata": {},
   "source": [
    "## Defining functions"
   ]
  },
  {
   "cell_type": "code",
   "execution_count": null,
   "metadata": {},
   "outputs": [],
   "source": [
    "def dice_similarity_coefficient(bb1, bb2):\n",
    "    # Calculate the intersection area\n",
    "    x1_int = max(bb1[0], bb2[0])\n",
    "    y1_int = max(bb1[1], bb2[1])\n",
    "    x2_int = min(bb1[2], bb2[2])\n",
    "    y2_int = min(bb1[3], bb2[3])\n",
    "    intersection_area = max(0, x2_int - x1_int) * max(0, y2_int - y1_int)\n",
    "\n",
    "    # Calculate the areas of each bounding box\n",
    "    area_bb1 = (bb1[2] - bb1[0]) * (bb1[3] - bb1[1])\n",
    "    area_bb2 = (bb2[2] - bb2[0]) * (bb2[3] - bb2[1])\n",
    "\n",
    "    # Calculate the Dice similarity coefficient\n",
    "    dice_coefficient = (2.0 * intersection_area) / (area_bb1 + area_bb2)\n",
    "\n",
    "    return dice_coefficient\n",
    "\n",
    "def check_results(bb_guesses, bb_truth):\n",
    "\n",
    "    dice_coefficients = []\n",
    "    \n",
    "    for bb_guess in bb_guesses:\n",
    "        dice_coefficients_bb = []\n",
    "        \n",
    "        for bb in bb_truth:\n",
    "            dice_coefficient = dice_similarity_coefficient(bb_guess, bb)\n",
    "            dice_coefficients_bb.append(dice_coefficient)\n",
    "\n",
    "        # If there are no ground truth bounding boxes left, append 0 to the list\n",
    "        # Otherwise, append the maximum dice similarity coefficient to the list\n",
    "        if len(dice_coefficients_bb) == 0:\n",
    "            dice_coefficients.append(0)\n",
    "        else:\n",
    "            dice_coefficients.append(max(dice_coefficients_bb))\n",
    "\n",
    "    return dice_coefficients"
   ]
  },
  {
   "cell_type": "code",
   "execution_count": null,
   "metadata": {},
   "outputs": [],
   "source": [
    "df_lego_sets = pd.read_csv(\"datasets/values.csv\")"
   ]
  },
  {
   "cell_type": "markdown",
   "metadata": {},
   "source": [
    "## Load YOLO model"
   ]
  },
  {
   "cell_type": "code",
   "execution_count": null,
   "metadata": {},
   "outputs": [],
   "source": [
    "# Load a pretrained model\n",
    "model = YOLO('yolov8s.pt')\n",
    "\n",
    "# Create folder to save the results\n",
    "try:\n",
    "    folder_name = \"results\"\n",
    "    os.mkdir(folder_name)\n",
    "except FileExistsError:\n",
    "    pass\n",
    "\n",
    "input_image_folder = 'datasets/smol'"
   ]
  },
  {
   "cell_type": "code",
   "execution_count": null,
   "metadata": {},
   "outputs": [],
   "source": [
    "# Predict bounding boxes for the images without printing the results\n",
    "results = model.predict(input_image_folder, stream=True) #, verbose=False)\n",
    "\n",
    "boxes = []\n",
    "for result in results:\n",
    "    # Get bounding boxes object for bounding box outputs\n",
    "    boxes.append(result.boxes)\n",
    "    \n",
    "    # Save image with bounding boxes and predictions to folder\n",
    "    image_name = result.path.split(os.sep)[-1]\n",
    "    result.save(filename=os.path.join(folder_name, image_name))\n",
    "\n",
    "print(boxes[0])"
   ]
  },
  {
   "cell_type": "markdown",
   "metadata": {},
   "source": [
    "## Visualize results"
   ]
  },
  {
   "cell_type": "code",
   "execution_count": null,
   "metadata": {},
   "outputs": [],
   "source": [
    "def get_file_names(directory):\n",
    "    file_names = []\n",
    "    for filename in os.listdir(directory):\n",
    "        if os.path.isfile(os.path.join(directory, filename)):\n",
    "            file_names.append(filename)\n",
    "    return file_names\n",
    "\n",
    "def loadImage(num, dataDir=\"datasets/smol\", size = 1):\n",
    "    \n",
    "    img = cv2.imread(os.path.join(dataDir, f'{num}'))\n",
    "    img = cv2.resize(img, (0, 0), fx = size, fy = size)\n",
    "    return img\n",
    "\n",
    "def render(image):\n",
    "    if image.dtype == np.float64:\n",
    "        image = cv2.convertScaleAbs(image)\n",
    "    if len(image.shape) == 3 and image.shape[2] == 3: # BGR or RGB\n",
    "        if np.array_equal(image[:, :, 0], image[:, :, 2]):\n",
    "            image = cv2.cvtColor(image, cv2.COLOR_BGR2RGB)\n",
    "    img_bytes = cv2.imencode('.png', image)[1].tobytes()\n",
    "    display(Image(data=img_bytes))"
   ]
  },
  {
   "cell_type": "code",
   "execution_count": null,
   "metadata": {},
   "outputs": [],
   "source": [
    "for name in get_file_names(folder_name):\n",
    "    img = loadImage(name, folder_name)\n",
    "    render(img)"
   ]
  }
 ],
 "metadata": {
  "kernelspec": {
   "display_name": "Python 3",
   "language": "python",
   "name": "python3"
  },
  "language_info": {
   "codemirror_mode": {
    "name": "ipython",
    "version": 3
   },
   "file_extension": ".py",
   "mimetype": "text/x-python",
   "name": "python",
   "nbconvert_exporter": "python",
   "pygments_lexer": "ipython3",
   "version": "3.10.12"
  }
 },
 "nbformat": 4,
 "nbformat_minor": 2
}
