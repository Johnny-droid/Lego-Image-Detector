{
 "cells": [
  {
   "cell_type": "markdown",
   "metadata": {},
   "source": [
    "# VC Project 2"
   ]
  },
  {
   "cell_type": "markdown",
   "metadata": {},
   "source": [
    "## Imports"
   ]
  },
  {
   "cell_type": "code",
   "execution_count": null,
   "metadata": {},
   "outputs": [
    {
     "ename": "",
     "evalue": "",
     "output_type": "error",
     "traceback": [
      "\u001b[1;31mRunning cells with 'Python 3.9.18' requires the ipykernel package.\n",
      "\u001b[1;31mRun the following command to install 'ipykernel' into the Python environment. \n",
      "\u001b[1;31mCommand: '/home/sparks/.pyenv/versions/3.9.18/bin/python -m pip install ipykernel -U --force-reinstall'"
     ]
    }
   ],
   "source": [
    "import cv2\n",
    "import numpy as np\n",
    "np.random.seed(42)\n",
    "import ast\n",
    "from sklearn.cluster import KMeans\n",
    "from collections import Counter\n",
    "import matplotlib.pyplot as plt\n",
    "import pandas as pd\n",
    "from mnist import MNIST\n",
    "import warnings\n",
    "from IPython.display import display, Image\n",
    "import os\n",
    "import json\n",
    "import sys\n",
    "import torch\n",
    "from torch import nn\n",
    "from tqdm import tqdm\n",
    "from torchsummary import summary\n",
    "from torch.utils.data import Dataset, DataLoader\n",
    "from torch.utils.data.sampler import SubsetRandomSampler\n",
    "import torch.nn.functional as F\n",
    "from torchvision import datasets, transforms, models\n",
    "import torchvision.transforms as transforms\n",
    "from sklearn.metrics import accuracy_score, mean_squared_error, confusion_matrix\n",
    "from sklearn.model_selection import train_test_split\n",
    "from tqdm import tqdm\n",
    "from PIL import Image\n",
    "\n",
    "# ======================== Suppress Warnings ========================\n",
    "\n",
    "warnings.filterwarnings(\"ignore\", category=UserWarning)\n",
    "warnings.filterwarnings(\"ignore\", category=RuntimeWarning)\n",
    "\n",
    "DRIVE_ROOT_DIR = \"\""
   ]
  },
  {
   "cell_type": "code",
   "execution_count": 2,
   "metadata": {},
   "outputs": [],
   "source": [
    "# Mount Google Drive\n",
    "# from google.colab import drive\n",
    "# drive.mount('/content/drive')"
   ]
  },
  {
   "cell_type": "markdown",
   "metadata": {},
   "source": [
    "## Defining functions"
   ]
  },
  {
   "cell_type": "code",
   "execution_count": 2,
   "metadata": {},
   "outputs": [],
   "source": [
    "def get_file_names(directory):\n",
    "    file_names = []\n",
    "    for filename in os.listdir(directory):\n",
    "        if os.path.isfile(os.path.join(directory, filename)):\n",
    "            file_names.append(filename)\n",
    "    return file_names\n",
    "\n",
    "def loadImage(num, imgLoadSizeRatio = 1, dataDir = 'data/imgs', standardSize = -1):\n",
    "    img = cv2.imread(os.path.join(dataDir, f'{num}'))\n",
    "    if standardSize > 0:\n",
    "        img = cv2.resize(img, (standardSize, standardSize))\n",
    "    elif imgLoadSizeRatio != 1:\n",
    "        img = cv2.resize(img, (0, 0), fx = imgLoadSizeRatio, fy = imgLoadSizeRatio)\n",
    "    return img\n",
    "\n",
    "def render(image):\n",
    "    if image.dtype == np.float64:\n",
    "        image = cv2.convertScaleAbs(image)\n",
    "    if len(image.shape) == 3 and image.shape[2] == 3: # BGR or RGB\n",
    "        if np.array_equal(image[:, :, 0], image[:, :, 2]):\n",
    "            image = cv2.cvtColor(image, cv2.COLOR_BGR2RGB)\n",
    "    img_bytes = cv2.imencode('.png', image)[1].tobytes()\n",
    "    display(Image(data=img_bytes))\n",
    "\n",
    "df_lego_sets = pd.read_csv(DRIVE_ROOT_DIR + \"data/values.csv\")\n",
    "\n",
    "def getActualPieceCount(imgID):\n",
    "    global df_lego_sets\n",
    "    piece_count = df_lego_sets.loc[df_lego_sets['id'] == imgID, 'lego_count'].values[0]\n",
    "    return piece_count \n",
    "\n",
    "def getBoundingBoxes(name):\n",
    "    global df_lego_sets\n",
    "    bb_list_str = df_lego_sets.loc[df_lego_sets['id'] == name, 'bb_list'].values[0]\n",
    "    bb_list = ast.literal_eval(bb_list_str)\n",
    "    return bb_list\n",
    "\n",
    "def makeGuess(image_id, num_guess):\n",
    "    piece_count = getActualPieceCount(image_id)\n",
    "    num_legos_error = abs(num_guess - piece_count)\n",
    "    \n",
    "    if(num_legos_error > 0):\n",
    "        print(f\"Error in Lego Count - Guessed: {num_guess} | Actual: {piece_count} legos\")\n",
    "    else :\n",
    "        print(f\"Perfect ({num_guess}) Guess!\")\n",
    "        \n",
    "    return piece_count, num_legos_error\n"
   ]
  },
  {
   "cell_type": "markdown",
   "metadata": {},
   "source": [
    "## Loading the data"
   ]
  },
  {
   "cell_type": "code",
   "execution_count": 4,
   "metadata": {},
   "outputs": [
    {
     "name": "stdout",
     "output_type": "stream",
     "text": [
      "Counter({1: 2650, 2: 2338, 3: 434, 4: 280, 5: 126, 8: 70, 7: 56, 10: 49, 9: 49, 18: 49, 6: 42, 11: 35, 14: 35, 15: 35, 30: 28, 27: 28, 32: 21, 12: 21, 24: 14, 17: 14, 31: 7, 16: 7, 23: 7, 28: 7, 26: 7, 29: 7, 20: 7, 25: 7, 13: 7})\n",
      "140\n",
      "30\n",
      "30\n",
      "Counter({1: 62, 2: 44, 3: 9, 4: 6, 8: 3, 9: 2, 6: 2, 11: 2, 18: 2, 5: 2, 7: 1, 10: 1, 28: 1, 25: 1, 14: 1, 15: 1})\n",
      "Counter({2: 17, 1: 7, 3: 2, 8: 1, 4: 1, 5: 1, 18: 1})\n",
      "Counter({2: 13, 1: 11, 10: 2, 4: 2, 18: 1, 5: 1})\n"
     ]
    }
   ],
   "source": [
    "imgs = []\n",
    "\n",
    "img_names = get_file_names(DRIVE_ROOT_DIR + 'data/imgs')\n",
    "\n",
    "for name in img_names:\n",
    "    img = loadImage(name, 1, DRIVE_ROOT_DIR + 'data/imgs')\n",
    "    count = getActualPieceCount(name[:-4])\n",
    "    bbs = getBoundingBoxes(name[:-4])\n",
    "    imgs.append((img, count, bbs))\n",
    "\n",
    "    if (count < 2):\n",
    "        continue\n",
    "    # apply multiple transformations to the image to upsample the dataset\n",
    "    # Rotation\n",
    "    rotated_image_90 = cv2.rotate(img, cv2.ROTATE_90_CLOCKWISE)\n",
    "    imgs.append((rotated_image_90, count))\n",
    "    \n",
    "    rotated_image_180 = cv2.rotate(img, cv2.ROTATE_180)\n",
    "    imgs.append((rotated_image_180, count))\n",
    "    \n",
    "    rotated_image_270 = cv2.rotate(img, cv2.ROTATE_90_COUNTERCLOCKWISE)\n",
    "    imgs.append((rotated_image_270, count))\n",
    "    \n",
    "    # Flipping\n",
    "    flipped_image = cv2.flip(img, flipCode=1)\n",
    "    imgs.append((flipped_image, count))\n",
    "    \n",
    "    flipped_image = cv2.flip(img, flipCode=0)\n",
    "    imgs.append((flipped_image, count))\n",
    "    \n",
    "    # Rotation + Flipping\n",
    "    rotated_flipped_image = cv2.flip(rotated_image_90, flipCode=1)\n",
    "    imgs.append((rotated_flipped_image, count))\n",
    "\n",
    "# From the images that have just 1 lego, remove half of them\n",
    "ones_imgs = [img for img in imgs if img[1] == 1]\n",
    "np.random.shuffle(ones_imgs)\n",
    "ones_imgs = ones_imgs[:int(len(ones_imgs)/2)]\n",
    "imgs = [img for img in imgs if img[1] != 1]\n",
    "imgs.extend(ones_imgs)\n",
    "\n",
    "# Display the balance of the dataset\n",
    "lego_counts = [img[1] for img in imgs]\n",
    "lego_counts = Counter(lego_counts)\n",
    "print(lego_counts)\n",
    "\n",
    "# suffle the images\n",
    "np.random.shuffle(imgs)    \n",
    "\n",
    "# Size of dataset that we will be using:\n",
    "datasetSize = 200\n",
    "\n",
    "\"\"\"\n",
    "# If we want to keep them stratified\n",
    "# Sample the images and make sure they are stratified\n",
    "X = [img[0] for img in imgs]\n",
    "y = [img[1] for img in imgs]\n",
    "\n",
    "X_sampled, _, y_sampled, _ = train_test_split(X, y, test_size=len(X)-200, stratify=y, random_state=42)\n",
    "sampled_imgs = [(X_sampled[i], y_sampled[i]) for i in range(len(X_sampled))]\n",
    "# pick the first 70% of the images for training \n",
    "X_train, X_temp, y_train, y_temp = train_test_split(X_sampled, y_sampled, test_size=0.30, stratify=y_sampled, random_state=42)\n",
    "\n",
    "# and pick the remaining 15% of the images for validation and 15% for testing\n",
    "X_val, X_test, y_val, y_test = train_test_split(X_temp, y_temp, test_size=0.50, stratify=y_temp, random_state=42)\n",
    "\n",
    "# Combine the images and their counts\n",
    "train_imgs = [(X_train[i], y_train[i]) for i in range(len(X_train))]\n",
    "val_imgs = [(X_val[i], y_val[i]) for i in range(len(X_val))]\n",
    "test_imgs = [(X_test[i], y_test[i]) for i in range(len(X_test))]\n",
    "\n",
    "# pick the first 70% of the images for training\n",
    "train_imgs = sampled_imgs[:int(datasetSize * 0.7)]\n",
    "val_imgs = sampled_imgs[int(datasetSize * 0.7):int(datasetSize * 0.85)]\n",
    "test_imgs = sampled_imgs[int(datasetSize * 0.85):]\n",
    "\"\"\"\n",
    "# imgs_32 = [img for img in imgs if img[1] == 32]\n",
    "imgs = imgs[:datasetSize]\n",
    "# imgs.extend(imgs_32)\n",
    "    \n",
    "# pick the first 70% of the images for training\n",
    "train_imgs = imgs[:int(len(imgs)*0.7)]\n",
    "\n",
    "# pick the remaining 15% of the images for validation and the last 15% for testing\n",
    "val_imgs = imgs[int(len(imgs)*0.7):int(len(imgs)*0.85)]\n",
    "test_imgs = imgs[int(len(imgs)*0.85):]\n",
    "\n",
    "print(len(train_imgs))\n",
    "print(len(val_imgs))\n",
    "print(len(test_imgs))\n",
    "\n",
    "# Calculate the distribution of the number of legos in each set\n",
    "train_lego_counts = [img[1] for img in train_imgs]\n",
    "val_lego_counts = [img[1] for img in val_imgs]\n",
    "test_lego_counts = [img[1] for img in test_imgs]\n",
    "\n",
    "train_lego_counts = Counter(train_lego_counts)\n",
    "val_lego_counts = Counter(val_lego_counts)\n",
    "test_lego_counts = Counter(test_lego_counts)\n",
    "\n",
    "print(train_lego_counts)\n",
    "print(val_lego_counts)\n",
    "print(test_lego_counts)"
   ]
  },
  {
   "cell_type": "code",
   "execution_count": 5,
   "metadata": {},
   "outputs": [],
   "source": [
    "# Plot a pie chart to show the distribution of the number of legos in just the original imgs\n",
    "# plt.figure(figsize=(20, 10))\n",
    "# plt.pie(lego_counts.values(), labels=lego_counts.keys())\n",
    "# plt.title('Distribution of the number of legos in the dataset')\n",
    "# plt.show()\n"
   ]
  },
  {
   "cell_type": "markdown",
   "metadata": {},
   "source": [
    "## Defining the model"
   ]
  },
  {
   "cell_type": "code",
   "execution_count": 6,
   "metadata": {},
   "outputs": [],
   "source": [
    "class CustomDataset(Dataset):\n",
    "  def __init__(self, images, labels, transform=None):\n",
    "        self.images = images\n",
    "        self.labels = labels\n",
    "        self.transform = transform\n",
    "  \n",
    "  def __len__(self):\n",
    "    return len(self.images)\n",
    "\n",
    "  def __getitem__(self, idx):\n",
    "      image = self.images[idx]\n",
    "\n",
    "      # Apply transformations to the image\n",
    "      if self.transform:\n",
    "        image = self.transform(image)\n",
    "\n",
    "      label = int(self.labels[idx])\n",
    "      return (image, label)"
   ]
  },
  {
   "cell_type": "code",
   "execution_count": 7,
   "metadata": {},
   "outputs": [
    {
     "name": "stdout",
     "output_type": "stream",
     "text": [
      "5\n",
      "1\n",
      "1\n",
      "Using cpu device\n"
     ]
    }
   ],
   "source": [
    "train_images = [img[0] for img in train_imgs]\n",
    "train_labels = [img[1]-1 for img in train_imgs]\n",
    "val_images = [img[0] for img in val_imgs]\n",
    "val_labels = [img[1]-1 for img in val_imgs]\n",
    "test_images = [img[0] for img in test_imgs]\n",
    "test_labels = [img[1]-1 for img in test_imgs]\n",
    "\n",
    "batch_size = 32 # how many images are processed at a time\n",
    "num_workers = 8 # how many processes are used to load the data\n",
    "\n",
    "# Define transformations\n",
    "data_aug = transforms.Compose([\n",
    "    transforms.ToTensor(),\n",
    "    transforms.Normalize([0.485, 0.456, 0.406], [0.229, 0.224, 0.225])\n",
    "])\n",
    "\n",
    "# Create dataset objects\n",
    "training_data = CustomDataset(train_images, train_labels, transform=data_aug)\n",
    "validation_data = CustomDataset(val_images, val_labels, transform=data_aug)\n",
    "testing_data = CustomDataset(test_images, test_labels, transform=data_aug)\n",
    "\n",
    "# Define data loaders\n",
    "train_dataloader = DataLoader(training_data, batch_size=batch_size, shuffle=True, num_workers=num_workers)\n",
    "validation_dataloader = DataLoader(validation_data, batch_size=batch_size, shuffle=False, num_workers=num_workers)\n",
    "test_dataloader = DataLoader(testing_data, batch_size=batch_size, shuffle=False, num_workers=num_workers)\n",
    "\n",
    "# Show one image\n",
    "# plt.imshow(training_data[0][0][0,:,:], cmap='gray')\n",
    "\n",
    "print(len(train_dataloader))\n",
    "print(len(validation_dataloader))\n",
    "print(len(test_dataloader))\n",
    "\n",
    "# Get cpu or gpu device for training\n",
    "device = \"cuda\" if torch.cuda.is_available() else \"cpu\"\n",
    "print(f\"Using {device} device\")"
   ]
  },
  {
   "cell_type": "code",
   "execution_count": null,
   "metadata": {},
   "outputs": [],
   "source": [
    "# for batch, (X, y) in enumerate(train_dataloader):\n",
    "#     print(X.shape, y.shape)\n",
    "#     print(y)\n",
    "#     print(y.float())"
   ]
  },
  {
   "cell_type": "code",
   "execution_count": 8,
   "metadata": {},
   "outputs": [
    {
     "name": "stdout",
     "output_type": "stream",
     "text": [
      "ConvolutionalNeuralNetwork(\n",
      "  (layers): Sequential(\n",
      "    (0): Conv2d(3, 32, kernel_size=(3, 3), stride=(1, 1))\n",
      "    (1): ReLU()\n",
      "    (2): Conv2d(32, 32, kernel_size=(3, 3), stride=(1, 1))\n",
      "    (3): ReLU()\n",
      "    (4): MaxPool2d(kernel_size=2, stride=2, padding=0, dilation=1, ceil_mode=False)\n",
      "    (5): Dropout(p=0.25, inplace=False)\n",
      "    (6): Conv2d(32, 64, kernel_size=(3, 3), stride=(1, 1))\n",
      "    (7): ReLU()\n",
      "    (8): Conv2d(64, 64, kernel_size=(3, 3), stride=(1, 1))\n",
      "    (9): ReLU()\n",
      "    (10): MaxPool2d(kernel_size=2, stride=2, padding=0, dilation=1, ceil_mode=False)\n",
      "    (11): Dropout(p=0.25, inplace=False)\n",
      "    (12): Flatten(start_dim=1, end_dim=-1)\n",
      "    (13): Linear(in_features=179776, out_features=512, bias=True)\n",
      "    (14): ReLU()\n",
      "    (15): Dropout(p=0.5, inplace=False)\n",
      "    (16): Linear(in_features=512, out_features=32, bias=True)\n",
      "  )\n",
      ")\n"
     ]
    }
   ],
   "source": [
    "class ConvolutionalNeuralNetwork(nn.Module):\n",
    "    def __init__(self):\n",
    "        super(ConvolutionalNeuralNetwork, self).__init__()\n",
    "        self.pool_size = 2\n",
    "        self.nb_filters = 32\n",
    "        self.kernel_size = 3\n",
    "\n",
    "        self.layers = nn.Sequential(\n",
    "            nn.Conv2d(3, self.nb_filters, self.kernel_size),\n",
    "            nn.ReLU(),\n",
    "            nn.Conv2d(self.nb_filters, self.nb_filters, self.kernel_size),\n",
    "            nn.ReLU(),\n",
    "            nn.MaxPool2d(self.pool_size),\n",
    "            nn.Dropout(0.25),\n",
    "            nn.Conv2d(self.nb_filters, self.nb_filters * 2, self.kernel_size),\n",
    "            nn.ReLU(),\n",
    "            nn.Conv2d(self.nb_filters * 2, self.nb_filters * 2, self.kernel_size),\n",
    "            nn.ReLU(),\n",
    "            nn.MaxPool2d(self.pool_size),\n",
    "            nn.Dropout(0.25),\n",
    "            nn.Flatten(),\n",
    "            nn.Linear(179776, 512),\n",
    "            nn.ReLU(),\n",
    "            nn.Dropout(0.5),\n",
    "            nn.Linear(512, 32)  # we have 32 classes to guess\n",
    "        )\n",
    "\n",
    "    def forward(self, x):\n",
    "        logits = self.layers(x)\n",
    "        return logits\n",
    "\n",
    "model = ConvolutionalNeuralNetwork().to(device)\n",
    "print(model)"
   ]
  },
  {
   "cell_type": "markdown",
   "metadata": {},
   "source": [
    "## Train"
   ]
  },
  {
   "cell_type": "code",
   "execution_count": 9,
   "metadata": {},
   "outputs": [],
   "source": [
    "# Create folder to save the models\n",
    "try:\n",
    "    folder_name = DRIVE_ROOT_DIR + \"models\"\n",
    "    os.mkdir(folder_name)\n",
    "except FileExistsError:\n",
    "    pass"
   ]
  },
  {
   "cell_type": "code",
   "execution_count": 10,
   "metadata": {},
   "outputs": [],
   "source": [
    "def epoch_iter(dataloader, model, loss_fn, optimizer=None, is_train=True, preds=[], labels=[]):\n",
    "    if is_train:\n",
    "      assert optimizer is not None, \"When training, please provide an optimizer.\"\n",
    "\n",
    "    num_batches = len(dataloader)\n",
    "    \n",
    "    if num_batches == 0:\n",
    "      print(\"No data in the dataloader\")\n",
    "      return 0.0, 0.0\n",
    "\n",
    "    if is_train:\n",
    "      model.train()\n",
    "    else:\n",
    "      model.eval()\n",
    "\n",
    "    total_loss = 0.0\n",
    "\n",
    "    with torch.set_grad_enabled(is_train):\n",
    "      for batch, (X, y) in enumerate(tqdm(dataloader)):\n",
    "          X, y = X.to(device), y.to(device)\n",
    "\n",
    "          # Obtain prediction\n",
    "          pred = model(X)\n",
    "          \n",
    "          # Obtain loss value\n",
    "          loss = loss_fn(pred, y)\n",
    "\n",
    "          if is_train:\n",
    "            # Backpropagation\n",
    "            optimizer.zero_grad()\n",
    "            loss.backward()\n",
    "            optimizer.step()\n",
    "\n",
    "          # Save training metrics\n",
    "          total_loss += loss.item() # IMPORTANT: call .item() to obtain the value of the loss WITHOUT the computational graph attached\n",
    "\n",
    "          # Calculate final prediction\n",
    "          probs = F.softmax(pred, dim=1)\n",
    "          final_pred = torch.argmax(probs, dim=1)\n",
    "          preds.extend(final_pred.cpu().numpy())\n",
    "          labels.extend(y.cpu().numpy())\n",
    "\n",
    "    return total_loss / num_batches, accuracy_score(labels, preds)"
   ]
  },
  {
   "cell_type": "code",
   "execution_count": 11,
   "metadata": {},
   "outputs": [],
   "source": [
    "def train(model, model_name, num_epochs, train_dataloader, validation_dataloader, loss_fn, optimizer):\n",
    "  \n",
    "  train_history = {'loss': [], 'accuracy': []}\n",
    "  val_history = {'loss': [], 'accuracy': []}\n",
    "  \n",
    "  best_val_loss = np.inf\n",
    "  \n",
    "  print(\"Start training...\")\n",
    "  \n",
    "  for t in range(num_epochs):\n",
    "    \n",
    "      print(f\"\\nEpoch {t+1}\")\n",
    "      \n",
    "      train_loss, train_acc = epoch_iter(train_dataloader, model, loss_fn, optimizer)\n",
    "      print(f\"Train loss: {train_loss:.3f} \\t Train acc: {train_acc:.3f}\")\n",
    "      \n",
    "      if(train_acc > 0):\n",
    "        val_loss, val_acc = epoch_iter(validation_dataloader, model, loss_fn, is_train=False)\n",
    "      else :\n",
    "        val_loss = 0\n",
    "        val_acc = 0\n",
    "        \n",
    "      print(f\"Val loss: {val_loss:.3f} \\t Val acc: {val_acc:.3f}\")\n",
    "\n",
    "      # save model when val loss improves\n",
    "      if val_loss < best_val_loss:\n",
    "        best_val_loss = val_loss\n",
    "        save_dict = {'model': model.state_dict(), 'optimizer': optimizer.state_dict(), 'epoch': t}\n",
    "        torch.save(save_dict, DRIVE_ROOT_DIR + \"models/\" + model_name + '_best_model.pth')\n",
    "\n",
    "      # save latest model\n",
    "      save_dict = {'model': model.state_dict(), 'optimizer': optimizer.state_dict(), 'epoch': t}\n",
    "      torch.save(save_dict, DRIVE_ROOT_DIR + \"models/\" + model_name + '_latest_model.pth')\n",
    "\n",
    "      # save training history for plotting purposes\n",
    "      train_history[\"loss\"].append(train_loss)\n",
    "      train_history[\"accuracy\"].append(train_acc)\n",
    "\n",
    "      val_history[\"loss\"].append(val_loss)\n",
    "      val_history[\"accuracy\"].append(val_acc)\n",
    "      \n",
    "  print(\"Finished\")\n",
    "  return train_history, val_history"
   ]
  },
  {
   "cell_type": "code",
   "execution_count": 12,
   "metadata": {},
   "outputs": [],
   "source": [
    "def plotTrainingHistory(train_history, val_history, stat='accuracy'):\n",
    "    plt.subplot(2, 1, 1)\n",
    "    plt.title('Loss')\n",
    "    plt.plot(train_history['loss'], label='train')\n",
    "    plt.plot(val_history['loss'], label='val')\n",
    "    plt.legend(loc='best')\n",
    "\n",
    "    plt.subplot(2, 1, 2)\n",
    "    plt.title(stat)\n",
    "    plt.plot(train_history[stat], label='train')\n",
    "    plt.plot(val_history[stat], label='val')\n",
    "\n",
    "    plt.tight_layout()\n",
    "    plt.legend(loc='best')\n",
    "    plt.show()"
   ]
  },
  {
   "cell_type": "code",
   "execution_count": 11,
   "metadata": {},
   "outputs": [
    {
     "name": "stdout",
     "output_type": "stream",
     "text": [
      "Start training...\n",
      "\n",
      "Epoch 1\n"
     ]
    },
    {
     "name": "stderr",
     "output_type": "stream",
     "text": [
      "100%|██████████| 141/141 [08:22<00:00,  3.57s/it]\n"
     ]
    },
    {
     "name": "stdout",
     "output_type": "stream",
     "text": [
      "Train loss: 1.748 \t Train acc: 0.428\n"
     ]
    },
    {
     "name": "stderr",
     "output_type": "stream",
     "text": [
      "100%|██████████| 31/31 [00:36<00:00,  1.18s/it]\n"
     ]
    },
    {
     "name": "stdout",
     "output_type": "stream",
     "text": [
      "Val loss: 1.547 \t Val acc: 0.436\n",
      "\n",
      "Epoch 2\n"
     ]
    },
    {
     "name": "stderr",
     "output_type": "stream",
     "text": [
      "100%|██████████| 141/141 [09:48<00:00,  4.17s/it]\n"
     ]
    },
    {
     "name": "stdout",
     "output_type": "stream",
     "text": [
      "Train loss: 1.541 \t Train acc: 0.470\n"
     ]
    },
    {
     "name": "stderr",
     "output_type": "stream",
     "text": [
      "100%|██████████| 31/31 [00:45<00:00,  1.47s/it]\n"
     ]
    },
    {
     "name": "stdout",
     "output_type": "stream",
     "text": [
      "Val loss: 1.518 \t Val acc: 0.480\n",
      "\n",
      "Epoch 3\n"
     ]
    },
    {
     "name": "stderr",
     "output_type": "stream",
     "text": [
      "100%|██████████| 141/141 [10:33<00:00,  4.49s/it]\n"
     ]
    },
    {
     "name": "stdout",
     "output_type": "stream",
     "text": [
      "Train loss: 1.447 \t Train acc: 0.502\n"
     ]
    },
    {
     "name": "stderr",
     "output_type": "stream",
     "text": [
      "100%|██████████| 31/31 [00:46<00:00,  1.51s/it]\n"
     ]
    },
    {
     "name": "stdout",
     "output_type": "stream",
     "text": [
      "Val loss: 1.411 \t Val acc: 0.504\n",
      "\n",
      "Epoch 4\n"
     ]
    },
    {
     "name": "stderr",
     "output_type": "stream",
     "text": [
      "100%|██████████| 141/141 [09:22<00:00,  3.99s/it]\n"
     ]
    },
    {
     "name": "stdout",
     "output_type": "stream",
     "text": [
      "Train loss: 1.350 \t Train acc: 0.522\n"
     ]
    },
    {
     "name": "stderr",
     "output_type": "stream",
     "text": [
      "100%|██████████| 31/31 [00:44<00:00,  1.45s/it]\n"
     ]
    },
    {
     "name": "stdout",
     "output_type": "stream",
     "text": [
      "Val loss: 1.282 \t Val acc: 0.525\n",
      "\n",
      "Epoch 5\n"
     ]
    },
    {
     "name": "stderr",
     "output_type": "stream",
     "text": [
      "100%|██████████| 141/141 [08:56<00:00,  3.81s/it]\n"
     ]
    },
    {
     "name": "stdout",
     "output_type": "stream",
     "text": [
      "Train loss: 1.283 \t Train acc: 0.539\n"
     ]
    },
    {
     "name": "stderr",
     "output_type": "stream",
     "text": [
      "100%|██████████| 31/31 [00:39<00:00,  1.27s/it]\n"
     ]
    },
    {
     "name": "stdout",
     "output_type": "stream",
     "text": [
      "Val loss: 1.211 \t Val acc: 0.542\n",
      "\n",
      "Epoch 6\n"
     ]
    },
    {
     "name": "stderr",
     "output_type": "stream",
     "text": [
      "100%|██████████| 141/141 [10:57<00:00,  4.66s/it]\n"
     ]
    },
    {
     "name": "stdout",
     "output_type": "stream",
     "text": [
      "Train loss: 1.226 \t Train acc: 0.552\n"
     ]
    },
    {
     "name": "stderr",
     "output_type": "stream",
     "text": [
      "100%|██████████| 31/31 [00:46<00:00,  1.50s/it]\n"
     ]
    },
    {
     "name": "stdout",
     "output_type": "stream",
     "text": [
      "Val loss: 1.202 \t Val acc: 0.554\n",
      "\n",
      "Epoch 7\n"
     ]
    },
    {
     "name": "stderr",
     "output_type": "stream",
     "text": [
      "100%|██████████| 141/141 [09:21<00:00,  3.99s/it]\n"
     ]
    },
    {
     "name": "stdout",
     "output_type": "stream",
     "text": [
      "Train loss: 1.179 \t Train acc: 0.563\n"
     ]
    },
    {
     "name": "stderr",
     "output_type": "stream",
     "text": [
      "100%|██████████| 31/31 [00:46<00:00,  1.50s/it]\n"
     ]
    },
    {
     "name": "stdout",
     "output_type": "stream",
     "text": [
      "Val loss: 1.142 \t Val acc: 0.564\n",
      "\n",
      "Epoch 8\n"
     ]
    },
    {
     "name": "stderr",
     "output_type": "stream",
     "text": [
      "100%|██████████| 141/141 [10:45<00:00,  4.58s/it]\n"
     ]
    },
    {
     "name": "stdout",
     "output_type": "stream",
     "text": [
      "Train loss: 1.118 \t Train acc: 0.572\n"
     ]
    },
    {
     "name": "stderr",
     "output_type": "stream",
     "text": [
      "100%|██████████| 31/31 [00:45<00:00,  1.45s/it]\n"
     ]
    },
    {
     "name": "stdout",
     "output_type": "stream",
     "text": [
      "Val loss: 1.168 \t Val acc: 0.574\n",
      "\n",
      "Epoch 9\n"
     ]
    },
    {
     "name": "stderr",
     "output_type": "stream",
     "text": [
      "100%|██████████| 141/141 [10:31<00:00,  4.48s/it]\n"
     ]
    },
    {
     "name": "stdout",
     "output_type": "stream",
     "text": [
      "Train loss: 1.079 \t Train acc: 0.581\n"
     ]
    },
    {
     "name": "stderr",
     "output_type": "stream",
     "text": [
      "100%|██████████| 31/31 [00:50<00:00,  1.62s/it]\n"
     ]
    },
    {
     "name": "stdout",
     "output_type": "stream",
     "text": [
      "Val loss: 1.189 \t Val acc: 0.582\n",
      "\n",
      "Epoch 10\n"
     ]
    },
    {
     "name": "stderr",
     "output_type": "stream",
     "text": [
      "100%|██████████| 141/141 [09:45<00:00,  4.15s/it]\n"
     ]
    },
    {
     "name": "stdout",
     "output_type": "stream",
     "text": [
      "Train loss: 1.046 \t Train acc: 0.588\n"
     ]
    },
    {
     "name": "stderr",
     "output_type": "stream",
     "text": [
      "100%|██████████| 31/31 [00:38<00:00,  1.24s/it]\n"
     ]
    },
    {
     "name": "stdout",
     "output_type": "stream",
     "text": [
      "Val loss: 1.084 \t Val acc: 0.589\n",
      "Finished\n"
     ]
    },
    {
     "data": {
      "image/png": "[encoded data removed]",
      "text/plain": [
       "<Figure size 640x480 with 2 Axes>"
      ]
     },
     "metadata": {},
     "output_type": "display_data"
    }
   ],
   "source": [
    "num_epochs = 10\n",
    "model_name = 'custom_CNN'\n",
    "\n",
    "# Define loss function and optimizer\n",
    "loss_fn = nn.CrossEntropyLoss()\n",
    "optimizer_custom = torch.optim.SGD(model.parameters(), lr=0.01)\n",
    "\n",
    "custom_train_history, custom_val_history = train(model, model_name, num_epochs, train_dataloader, validation_dataloader, loss_fn, optimizer_custom)\n",
    "\n",
    "plotTrainingHistory(custom_train_history, custom_val_history)"
   ]
  },
  {
   "cell_type": "markdown",
   "metadata": {},
   "source": [
    "## Testing"
   ]
  },
  {
   "cell_type": "code",
   "execution_count": 13,
   "metadata": {},
   "outputs": [],
   "source": [
    "# Display the confusion matrix exactly as received from the sklearn library\n",
    "def display_confusion_matrix(confusion_matrix):\n",
    "    plt.figure(figsize=(12, 12))\n",
    "    plt.imshow(confusion_matrix, interpolation='nearest', cmap=plt.get_cmap('Blues'))\n",
    "    plt.title('Confusion Matrix')\n",
    "    plt.colorbar()\n",
    "    plt.ylabel('True label')\n",
    "    plt.xlabel('Predicted label')\n",
    "    # We will have at most 33 classes\n",
    "    plt.xticks(range(0, 32))\n",
    "    plt.yticks(range(0, 32))\n",
    "    # The padding should be set to 0\n",
    "    plt.gca().set_xticklabels([str(x) for x in range(1, 33)])\n",
    "    plt.gca().set_yticklabels([str(x) for x in range(1, 33)])\n",
    "    plt.show()\n",
    "\n",
    "def buildConfusionMatrix(preds, labels):\n",
    "    # We will build our custom confusion matrix with 32 classes\n",
    "    confusion_matrix = np.zeros((32, 32))\n",
    "    for i in range(len(preds)):\n",
    "        confusion_matrix[labels[i]-1, preds[i]-1] += 1\n",
    "    return confusion_matrix"
   ]
  },
  {
   "cell_type": "code",
   "execution_count": 13,
   "metadata": {},
   "outputs": [
    {
     "name": "stderr",
     "output_type": "stream",
     "text": [
      "100%|██████████| 31/31 [00:41<00:00,  1.32s/it]\n"
     ]
    },
    {
     "name": "stdout",
     "output_type": "stream",
     "text": [
      "\n",
      "Test Loss: 1.046 \n",
      "Test Accuracy: 0.678\n",
      "\n",
      "[[331.  76.   2. ...   0.   0.   0.]\n",
      " [ 49. 314.   2. ...   0.   0.   0.]\n",
      " [ 13.  32.   3. ...   0.   0.   0.]\n",
      " ...\n",
      " [  0.   2.   0. ...   0.   0.   0.]\n",
      " [  0.   0.   0. ...   0.   0.   0.]\n",
      " [  0.   2.   0. ...   0.   0.   0.]]\n"
     ]
    },
    {
     "data": {
      "image/png": "[encoded data removed]",
      "text/plain": [
       "<Figure size 1200x1200 with 2 Axes>"
      ]
     },
     "metadata": {},
     "output_type": "display_data"
    }
   ],
   "source": [
    "# Load model\n",
    "model = ConvolutionalNeuralNetwork().to(device)\n",
    "checkpoint = torch.load(DRIVE_ROOT_DIR + \"models/\" + model_name + '_best_model.pth')\n",
    "model.load_state_dict(checkpoint['model'])\n",
    "\n",
    "# Test model\n",
    "preds = []\n",
    "labels = []\n",
    "test_loss, test_acc = epoch_iter(test_dataloader, model, loss_fn, is_train=False, preds=preds, labels=labels)\n",
    "print(f\"\\nTest Loss: {test_loss:.3f} \\nTest Accuracy: {test_acc:.3f}\\n\")\n",
    "\n",
    "# There predictions and labels are in the range [0, 31], so we need to add 1 to each value\n",
    "preds = [x+1 for x in preds]\n",
    "labels = [x+1 for x in labels]\n",
    "\n",
    "# Confusion matrix with the number in each cell\n",
    "confusion_matrix = buildConfusionMatrix(preds, labels)\n",
    "print(confusion_matrix)\n",
    "# Display confusion matrix\n",
    "display_confusion_matrix(confusion_matrix)\n"
   ]
  },
  {
   "cell_type": "code",
   "execution_count": 14,
   "metadata": {},
   "outputs": [],
   "source": [
    "def showErrors(model, dataloader, num_examples=20):    \n",
    "    plt.figure(figsize=(15, 15))\n",
    "\n",
    "    for ind, (X, y) in enumerate(dataloader):\n",
    "      if ind >= num_examples: break\n",
    "      X, y = X.to(device), y.to(device)    \n",
    "      pred = model(X)\n",
    "      probs = F.softmax(pred, dim=1)\n",
    "      final_pred = torch.argmax(probs, dim=1)\n",
    "\n",
    "      plt.subplot(10, 10, ind + 1)\n",
    "      plt.axis(\"off\")\n",
    "      plt.text(0, -1, y[0].item(), fontsize=14, color='green') # correct\n",
    "      plt.text(8, -1, final_pred[0].item(), fontsize=14, color='red')  # predicted\n",
    "      plt.imshow(X[0][0,:,:].cpu(), cmap='gray')\n",
    "      \n",
    "    plt.show()\n",
    "    \n",
    "# showErrors(model, test_dataloader)"
   ]
  },
  {
   "cell_type": "markdown",
   "metadata": {},
   "source": [
    "## Pre-trained model"
   ]
  },
  {
   "cell_type": "markdown",
   "metadata": {},
   "source": [
    "[Click here to check the pre-trained models that are available on torchvision.](https://pytorch.org/vision/0.9/models.html)\n"
   ]
  },
  {
   "cell_type": "code",
   "execution_count": null,
   "metadata": {},
   "outputs": [],
   "source": [
    "vgg = models.vgg16(pretrained=True)\n",
    "# set out_features of the last layer to 32\n",
    "vgg.classifier[6] = nn.Linear(4096, 32)\n",
    "vgg.to(device)\n",
    "\n",
    "print(vgg)\n",
    "\n",
    "# Train network for 5 epochs\n",
    "num_epochs = 5\n",
    "model_name = 'vgg16'\n",
    "\n",
    "loss_fn = nn.CrossEntropyLoss()\n",
    "optimizer_vgg = torch.optim.SGD(vgg.parameters(), lr=0.01)\n",
    "\n",
    "vgg_train_history, vgg_val_history = train(vgg, model_name, num_epochs, train_dataloader, validation_dataloader, loss_fn, optimizer_vgg)\n",
    "\n",
    "plotTrainingHistory(vgg_train_history, vgg_val_history)\n"
   ]
  },
  {
   "cell_type": "code",
   "execution_count": null,
   "metadata": {},
   "outputs": [],
   "source": [
    "# Load model checkpoint\n",
    "vgg = models.vgg16(pretrained=True)\n",
    "vgg.classifier[6] = nn.Linear(4096, 32)\n",
    "vgg.to(device)\n",
    "\n",
    "checkpoint = torch.load(DRIVE_ROOT_DIR + \"models/\" + model_name + '_best_model.pth')\n",
    "vgg.load_state_dict(checkpoint['model'])\n",
    "\n",
    "# Test model\n",
    "preds = []\n",
    "labels = []\n",
    "\n",
    "test_loss, test_acc = epoch_iter(test_dataloader, vgg, loss_fn, is_train=False, preds=preds, labels=labels)\n",
    "print(f\"\\nTest Loss: {test_loss:.3f} \\nTest Accuracy: {test_acc:.3f}\\n\")\n",
    "\n",
    "preds = [x+1 for x in preds]\n",
    "labels = [x+1 for x in labels]\n",
    "\n",
    "# Confusion matrix with the number in each cell\n",
    "confusion_matrix = buildConfusionMatrix(preds, labels)\n",
    "print(confusion_matrix)\n",
    "# Display confusion matrix\n",
    "display_confusion_matrix(confusion_matrix)\n"
   ]
  },
  {
   "cell_type": "code",
   "execution_count": 15,
   "metadata": {},
   "outputs": [
    {
     "name": "stdout",
     "output_type": "stream",
     "text": [
      "ResNet(\n",
      "  (conv1): Conv2d(3, 64, kernel_size=(7, 7), stride=(2, 2), padding=(3, 3), bias=False)\n",
      "  (bn1): BatchNorm2d(64, eps=1e-05, momentum=0.1, affine=True, track_running_stats=True)\n",
      "  (relu): ReLU(inplace=True)\n",
      "  (maxpool): MaxPool2d(kernel_size=3, stride=2, padding=1, dilation=1, ceil_mode=False)\n",
      "  (layer1): Sequential(\n",
      "    (0): BasicBlock(\n",
      "      (conv1): Conv2d(64, 64, kernel_size=(3, 3), stride=(1, 1), padding=(1, 1), bias=False)\n",
      "      (bn1): BatchNorm2d(64, eps=1e-05, momentum=0.1, affine=True, track_running_stats=True)\n",
      "      (relu): ReLU(inplace=True)\n",
      "      (conv2): Conv2d(64, 64, kernel_size=(3, 3), stride=(1, 1), padding=(1, 1), bias=False)\n",
      "      (bn2): BatchNorm2d(64, eps=1e-05, momentum=0.1, affine=True, track_running_stats=True)\n",
      "    )\n",
      "    (1): BasicBlock(\n",
      "      (conv1): Conv2d(64, 64, kernel_size=(3, 3), stride=(1, 1), padding=(1, 1), bias=False)\n",
      "      (bn1): BatchNorm2d(64, eps=1e-05, momentum=0.1, affine=True, track_running_stats=True)\n",
      "      (relu): ReLU(inplace=True)\n",
      "      (conv2): Conv2d(64, 64, kernel_size=(3, 3), stride=(1, 1), padding=(1, 1), bias=False)\n",
      "      (bn2): BatchNorm2d(64, eps=1e-05, momentum=0.1, affine=True, track_running_stats=True)\n",
      "    )\n",
      "  )\n",
      "  (layer2): Sequential(\n",
      "    (0): BasicBlock(\n",
      "      (conv1): Conv2d(64, 128, kernel_size=(3, 3), stride=(2, 2), padding=(1, 1), bias=False)\n",
      "      (bn1): BatchNorm2d(128, eps=1e-05, momentum=0.1, affine=True, track_running_stats=True)\n",
      "      (relu): ReLU(inplace=True)\n",
      "      (conv2): Conv2d(128, 128, kernel_size=(3, 3), stride=(1, 1), padding=(1, 1), bias=False)\n",
      "      (bn2): BatchNorm2d(128, eps=1e-05, momentum=0.1, affine=True, track_running_stats=True)\n",
      "      (downsample): Sequential(\n",
      "        (0): Conv2d(64, 128, kernel_size=(1, 1), stride=(2, 2), bias=False)\n",
      "        (1): BatchNorm2d(128, eps=1e-05, momentum=0.1, affine=True, track_running_stats=True)\n",
      "      )\n",
      "    )\n",
      "    (1): BasicBlock(\n",
      "      (conv1): Conv2d(128, 128, kernel_size=(3, 3), stride=(1, 1), padding=(1, 1), bias=False)\n",
      "      (bn1): BatchNorm2d(128, eps=1e-05, momentum=0.1, affine=True, track_running_stats=True)\n",
      "      (relu): ReLU(inplace=True)\n",
      "      (conv2): Conv2d(128, 128, kernel_size=(3, 3), stride=(1, 1), padding=(1, 1), bias=False)\n",
      "      (bn2): BatchNorm2d(128, eps=1e-05, momentum=0.1, affine=True, track_running_stats=True)\n",
      "    )\n",
      "  )\n",
      "  (layer3): Sequential(\n",
      "    (0): BasicBlock(\n",
      "      (conv1): Conv2d(128, 256, kernel_size=(3, 3), stride=(2, 2), padding=(1, 1), bias=False)\n",
      "      (bn1): BatchNorm2d(256, eps=1e-05, momentum=0.1, affine=True, track_running_stats=True)\n",
      "      (relu): ReLU(inplace=True)\n",
      "      (conv2): Conv2d(256, 256, kernel_size=(3, 3), stride=(1, 1), padding=(1, 1), bias=False)\n",
      "      (bn2): BatchNorm2d(256, eps=1e-05, momentum=0.1, affine=True, track_running_stats=True)\n",
      "      (downsample): Sequential(\n",
      "        (0): Conv2d(128, 256, kernel_size=(1, 1), stride=(2, 2), bias=False)\n",
      "        (1): BatchNorm2d(256, eps=1e-05, momentum=0.1, affine=True, track_running_stats=True)\n",
      "      )\n",
      "    )\n",
      "    (1): BasicBlock(\n",
      "      (conv1): Conv2d(256, 256, kernel_size=(3, 3), stride=(1, 1), padding=(1, 1), bias=False)\n",
      "      (bn1): BatchNorm2d(256, eps=1e-05, momentum=0.1, affine=True, track_running_stats=True)\n",
      "      (relu): ReLU(inplace=True)\n",
      "      (conv2): Conv2d(256, 256, kernel_size=(3, 3), stride=(1, 1), padding=(1, 1), bias=False)\n",
      "      (bn2): BatchNorm2d(256, eps=1e-05, momentum=0.1, affine=True, track_running_stats=True)\n",
      "    )\n",
      "  )\n",
      "  (layer4): Sequential(\n",
      "    (0): BasicBlock(\n",
      "      (conv1): Conv2d(256, 512, kernel_size=(3, 3), stride=(2, 2), padding=(1, 1), bias=False)\n",
      "      (bn1): BatchNorm2d(512, eps=1e-05, momentum=0.1, affine=True, track_running_stats=True)\n",
      "      (relu): ReLU(inplace=True)\n",
      "      (conv2): Conv2d(512, 512, kernel_size=(3, 3), stride=(1, 1), padding=(1, 1), bias=False)\n",
      "      (bn2): BatchNorm2d(512, eps=1e-05, momentum=0.1, affine=True, track_running_stats=True)\n",
      "      (downsample): Sequential(\n",
      "        (0): Conv2d(256, 512, kernel_size=(1, 1), stride=(2, 2), bias=False)\n",
      "        (1): BatchNorm2d(512, eps=1e-05, momentum=0.1, affine=True, track_running_stats=True)\n",
      "      )\n",
      "    )\n",
      "    (1): BasicBlock(\n",
      "      (conv1): Conv2d(512, 512, kernel_size=(3, 3), stride=(1, 1), padding=(1, 1), bias=False)\n",
      "      (bn1): BatchNorm2d(512, eps=1e-05, momentum=0.1, affine=True, track_running_stats=True)\n",
      "      (relu): ReLU(inplace=True)\n",
      "      (conv2): Conv2d(512, 512, kernel_size=(3, 3), stride=(1, 1), padding=(1, 1), bias=False)\n",
      "      (bn2): BatchNorm2d(512, eps=1e-05, momentum=0.1, affine=True, track_running_stats=True)\n",
      "    )\n",
      "  )\n",
      "  (avgpool): AdaptiveAvgPool2d(output_size=(1, 1))\n",
      "  (fc): Linear(in_features=512, out_features=32, bias=True)\n",
      ")\n",
      "Start training...\n",
      "\n",
      "Epoch 1\n"
     ]
    },
    {
     "name": "stderr",
     "output_type": "stream",
     "text": [
      "100%|██████████| 5/5 [00:14<00:00,  2.98s/it]\n"
     ]
    },
    {
     "name": "stdout",
     "output_type": "stream",
     "text": [
      "Train loss: 2.544 \t Train acc: 0.357\n"
     ]
    },
    {
     "name": "stderr",
     "output_type": "stream",
     "text": [
      "100%|██████████| 1/1 [00:02<00:00,  2.10s/it]\n"
     ]
    },
    {
     "name": "stdout",
     "output_type": "stream",
     "text": [
      "Val loss: 2.136 \t Val acc: 0.347\n",
      "\n",
      "Epoch 2\n"
     ]
    },
    {
     "name": "stderr",
     "output_type": "stream",
     "text": [
      "100%|██████████| 5/5 [00:15<00:00,  3.12s/it]\n"
     ]
    },
    {
     "name": "stdout",
     "output_type": "stream",
     "text": [
      "Train loss: 1.448 \t Train acc: 0.442\n"
     ]
    },
    {
     "name": "stderr",
     "output_type": "stream",
     "text": [
      "100%|██████████| 1/1 [00:02<00:00,  2.19s/it]\n"
     ]
    },
    {
     "name": "stdout",
     "output_type": "stream",
     "text": [
      "Val loss: 1.400 \t Val acc: 0.468\n",
      "\n",
      "Epoch 3\n"
     ]
    },
    {
     "name": "stderr",
     "output_type": "stream",
     "text": [
      "100%|██████████| 5/5 [00:16<00:00,  3.23s/it]\n"
     ]
    },
    {
     "name": "stdout",
     "output_type": "stream",
     "text": [
      "Train loss: 1.065 \t Train acc: 0.527\n"
     ]
    },
    {
     "name": "stderr",
     "output_type": "stream",
     "text": [
      "100%|██████████| 1/1 [00:02<00:00,  2.41s/it]\n"
     ]
    },
    {
     "name": "stdout",
     "output_type": "stream",
     "text": [
      "Val loss: 1.482 \t Val acc: 0.522\n",
      "Finished\n"
     ]
    },
    {
     "data": {
      "image/png": "[encoded data removed]",
      "text/plain": [
       "<Figure size 640x480 with 2 Axes>"
      ]
     },
     "metadata": {},
     "output_type": "display_data"
    }
   ],
   "source": [
    "# Try with ResNet\n",
    "resnet = models.resnet18(pretrained=True)\n",
    "resnet.fc = nn.Linear(512, 32)\n",
    "resnet.to(device)\n",
    "\n",
    "print(resnet)\n",
    "\n",
    "# Train network for n epochs\n",
    "num_epochs = 50\n",
    "model_name = 'resnet18'\n",
    "\n",
    "loss_fn = nn.CrossEntropyLoss()\n",
    "optimizer_resnet = torch.optim.SGD(resnet.parameters(), lr=0.01)\n",
    "\n",
    "resnet_train_history, resnet_val_history = train(resnet, model_name, num_epochs, train_dataloader, validation_dataloader, loss_fn, optimizer_resnet)\n",
    "\n",
    "plotTrainingHistory(resnet_train_history, resnet_val_history)"
   ]
  },
  {
   "cell_type": "code",
   "execution_count": null,
   "metadata": {},
   "outputs": [],
   "source": [
    "# Load model checkpoint\n",
    "resnet = models.resnet18(pretrained=True)\n",
    "resnet.fc = nn.Linear(512, 32)\n",
    "resnet.to(device)\n",
    "\n",
    "checkpoint = torch.load(DRIVE_ROOT_DIR + \"models/\" + model_name + '_best_model.pth')\n",
    "resnet.load_state_dict(checkpoint['model'])\n",
    "\n",
    "# Test model\n",
    "preds = []\n",
    "labels = []\n",
    "\n",
    "test_loss, test_acc = epoch_iter(test_dataloader, resnet, loss_fn, is_train=False, preds=preds, labels=labels)\n",
    "print(f\"\\nTest Loss: {test_loss:.3f} \\nTest Accuracy: {test_acc:.3f}\\n\")\n",
    "\n",
    "preds = [x+1 for x in preds]\n",
    "labels = [x+1 for x in labels]\n",
    "\n",
    "# Confusion matrix with the number in each cell\n",
    "confusion_matrix = buildConfusionMatrix(preds, labels)\n",
    "print(confusion_matrix)\n",
    "# Display confusion matrix\n",
    "display_confusion_matrix(confusion_matrix)"
   ]
  },
  {
   "cell_type": "markdown",
   "metadata": {},
   "source": [
    "Now, instead of using 32 classes, we will treat this problem as a regression problem. We will use the same architecture as before, but we will change the output layer to have only one neuron.\n",
    "\n",
    "In the regression, there we shouldn't reduce the labels by 1, since it's a regression task, so we can use the original labels."
   ]
  },
  {
   "cell_type": "code",
   "execution_count": null,
   "metadata": {},
   "outputs": [
    {
     "name": "stdout",
     "output_type": "stream",
     "text": [
      "7\n",
      "2\n",
      "2\n"
     ]
    }
   ],
   "source": [
    "train_images = [img[0] for img in train_imgs]\n",
    "train_labels = [img[1] for img in train_imgs]\n",
    "val_images = [img[0] for img in val_imgs]\n",
    "val_labels = [img[1] for img in val_imgs]\n",
    "test_images = [img[0] for img in test_imgs]\n",
    "test_labels = [img[1] for img in test_imgs]\n",
    "\n",
    "batch_size = 32 # how many images are processed at a time\n",
    "num_workers = 4 # how many processes are used to load the data\n",
    "\n",
    "# Define transformations\n",
    "data_aug = transforms.Compose([\n",
    "    transforms.ToTensor(),\n",
    "    transforms.Normalize([0.485, 0.456, 0.406], [0.229, 0.224, 0.225])\n",
    "])\n",
    "\n",
    "# Create dataset objects\n",
    "training_data = CustomDataset(train_images, train_labels, transform=data_aug)\n",
    "validation_data = CustomDataset(val_images, val_labels, transform=data_aug)\n",
    "testing_data = CustomDataset(test_images, test_labels, transform=data_aug)\n",
    "\n",
    "# Define data loaders\n",
    "train_dataloader = DataLoader(training_data, batch_size=batch_size, shuffle=True, num_workers=num_workers)\n",
    "validation_dataloader = DataLoader(validation_data, batch_size=batch_size, shuffle=False, num_workers=num_workers)\n",
    "test_dataloader = DataLoader(testing_data, batch_size=batch_size, shuffle=False, num_workers=num_workers)\n",
    "\n",
    "# Show one image\n",
    "# plt.imshow(training_data[0][0][0,:,:], cmap='gray')\n",
    "\n",
    "print(len(train_dataloader))\n",
    "print(len(validation_dataloader))\n",
    "print(len(test_dataloader))"
   ]
  },
  {
   "cell_type": "code",
   "execution_count": null,
   "metadata": {},
   "outputs": [],
   "source": [
    "# We need to change the epoch_iter to adapt to the regression problem instead of classification\n",
    "\n",
    "def epoch_iter(dataloader, model, loss_fn, optimizer=None, is_train=True, preds=[], labels=[]):\n",
    "    if is_train:\n",
    "      assert optimizer is not None, \"When training, please provide an optimizer.\"\n",
    "\n",
    "    num_batches = len(dataloader)\n",
    "    \n",
    "    if num_batches == 0:\n",
    "      print(\"No data in the dataloader\")\n",
    "      return 0.0, 0.0\n",
    "\n",
    "    if is_train:\n",
    "      model.train()\n",
    "    else:\n",
    "      model.eval()\n",
    "\n",
    "    total_loss = 0.0\n",
    "\n",
    "    with torch.set_grad_enabled(is_train):\n",
    "      for batch, (X, y) in enumerate(tqdm(dataloader)):\n",
    "          X, y = X.to(device), y.to(device)\n",
    "\n",
    "          y = y.float()\n",
    "\n",
    "          # Obtain prediction\n",
    "          pred = model(X)\n",
    "          \n",
    "          # Obtain loss value\n",
    "          loss = loss_fn(pred, y)\n",
    "\n",
    "          if is_train:\n",
    "            # Backpropagation\n",
    "            optimizer.zero_grad()\n",
    "            loss.backward()\n",
    "            optimizer.step()\n",
    "\n",
    "          # Save training metrics\n",
    "          total_loss += loss.item() # IMPORTANT: call .item() to obtain the value of the loss WITHOUT the computational graph attached\n",
    "\n",
    "          # Calculate final prediction\n",
    "          preds.extend(pred.cpu().detach().numpy())\n",
    "          labels.extend(y.cpu().detach().numpy())\n",
    "\n",
    "    return total_loss / num_batches"
   ]
  },
  {
   "cell_type": "code",
   "execution_count": null,
   "metadata": {},
   "outputs": [],
   "source": [
    "# We also need to change the train function to adapt to the regression problem\n",
    "\n",
    "def train(model, model_name, num_epochs, train_dataloader, validation_dataloader, loss_fn, optimizer):\n",
    "    \n",
    "    train_history = {'loss': [], 'mse': []}\n",
    "    val_history = {'loss': [], 'mse': []}\n",
    "    \n",
    "    best_val_loss = np.inf\n",
    "    \n",
    "    print(\"Start training...\")\n",
    "    \n",
    "    for t in range(num_epochs):\n",
    "        \n",
    "        print(f\"\\nEpoch {t+1}\")\n",
    "        \n",
    "        train_loss = epoch_iter(train_dataloader, model, loss_fn, optimizer)\n",
    "        print(f\"Train loss: {train_loss:.3f}\\t\")\n",
    "        \n",
    "        if(train_loss > 0):\n",
    "            val_loss = epoch_iter(validation_dataloader, model, loss_fn, is_train=False)\n",
    "        else :\n",
    "            val_loss = 0\n",
    "            \n",
    "        print(f\"Val loss: {val_loss:.3f} \\t\")\n",
    "    \n",
    "        # save model when val loss improves\n",
    "        if val_loss < best_val_loss:\n",
    "            best_val_loss = val_loss\n",
    "            save_dict = {'model': model.state_dict(), 'optimizer': optimizer.state_dict(), 'epoch': t}\n",
    "            torch.save(save_dict, DRIVE_ROOT_DIR + \"models/\" + model_name + '_best_model.pth')\n",
    "    \n",
    "        # save latest model\n",
    "        save_dict = {'model': model.state_dict(), 'optimizer': optimizer.state_dict(), 'epoch': t}\n",
    "        torch.save(save_dict, DRIVE_ROOT_DIR + \"models/\" + model_name + '_latest_model.pth')\n",
    "    \n",
    "        # save training history for plotting purposes\n",
    "        train_history[\"loss\"].append(train_loss)\n",
    "    \n",
    "        val_history[\"loss\"].append(val_loss)\n",
    "        \n",
    "    print(\"Finished\")\n",
    "    return train_history, val_history"
   ]
  },
  {
   "cell_type": "code",
   "execution_count": null,
   "metadata": {},
   "outputs": [
    {
     "name": "stdout",
     "output_type": "stream",
     "text": [
      "RegressionVGG16(\n",
      "  (vgg): VGG(\n",
      "    (features): Sequential(\n",
      "      (0): Conv2d(3, 64, kernel_size=(3, 3), stride=(1, 1), padding=(1, 1))\n",
      "      (1): ReLU(inplace=True)\n",
      "      (2): Conv2d(64, 64, kernel_size=(3, 3), stride=(1, 1), padding=(1, 1))\n",
      "      (3): ReLU(inplace=True)\n",
      "      (4): MaxPool2d(kernel_size=2, stride=2, padding=0, dilation=1, ceil_mode=False)\n",
      "      (5): Conv2d(64, 128, kernel_size=(3, 3), stride=(1, 1), padding=(1, 1))\n",
      "      (6): ReLU(inplace=True)\n",
      "      (7): Conv2d(128, 128, kernel_size=(3, 3), stride=(1, 1), padding=(1, 1))\n",
      "      (8): ReLU(inplace=True)\n",
      "      (9): MaxPool2d(kernel_size=2, stride=2, padding=0, dilation=1, ceil_mode=False)\n",
      "      (10): Conv2d(128, 256, kernel_size=(3, 3), stride=(1, 1), padding=(1, 1))\n",
      "      (11): ReLU(inplace=True)\n",
      "      (12): Conv2d(256, 256, kernel_size=(3, 3), stride=(1, 1), padding=(1, 1))\n",
      "      (13): ReLU(inplace=True)\n",
      "      (14): Conv2d(256, 256, kernel_size=(3, 3), stride=(1, 1), padding=(1, 1))\n",
      "      (15): ReLU(inplace=True)\n",
      "      (16): MaxPool2d(kernel_size=2, stride=2, padding=0, dilation=1, ceil_mode=False)\n",
      "      (17): Conv2d(256, 512, kernel_size=(3, 3), stride=(1, 1), padding=(1, 1))\n",
      "      (18): ReLU(inplace=True)\n",
      "      (19): Conv2d(512, 512, kernel_size=(3, 3), stride=(1, 1), padding=(1, 1))\n",
      "      (20): ReLU(inplace=True)\n",
      "      (21): Conv2d(512, 512, kernel_size=(3, 3), stride=(1, 1), padding=(1, 1))\n",
      "      (22): ReLU(inplace=True)\n",
      "      (23): MaxPool2d(kernel_size=2, stride=2, padding=0, dilation=1, ceil_mode=False)\n",
      "      (24): Conv2d(512, 512, kernel_size=(3, 3), stride=(1, 1), padding=(1, 1))\n",
      "      (25): ReLU(inplace=True)\n",
      "      (26): Conv2d(512, 512, kernel_size=(3, 3), stride=(1, 1), padding=(1, 1))\n",
      "      (27): ReLU(inplace=True)\n",
      "      (28): Conv2d(512, 512, kernel_size=(3, 3), stride=(1, 1), padding=(1, 1))\n",
      "      (29): ReLU(inplace=True)\n",
      "      (30): MaxPool2d(kernel_size=2, stride=2, padding=0, dilation=1, ceil_mode=False)\n",
      "    )\n",
      "    (avgpool): AdaptiveAvgPool2d(output_size=(7, 7))\n",
      "    (classifier): Sequential(\n",
      "      (0): Linear(in_features=25088, out_features=4096, bias=True)\n",
      "      (1): ReLU(inplace=True)\n",
      "      (2): Dropout(p=0.5, inplace=False)\n",
      "      (3): Linear(in_features=4096, out_features=4096, bias=True)\n",
      "      (4): ReLU(inplace=True)\n",
      "      (5): Dropout(p=0.5, inplace=False)\n",
      "      (6): Sequential(\n",
      "        (0): Linear(in_features=4096, out_features=512, bias=True)\n",
      "        (1): ReLU()\n",
      "        (2): Dropout(p=0.5, inplace=False)\n",
      "        (3): Linear(in_features=512, out_features=1, bias=True)\n",
      "      )\n",
      "    )\n",
      "  )\n",
      ")\n",
      "Start training...\n",
      "\n",
      "Epoch 1\n"
     ]
    },
    {
     "name": "stderr",
     "output_type": "stream",
     "text": [
      "100%|██████████| 7/7 [02:19<00:00, 19.90s/it]\n"
     ]
    },
    {
     "name": "stdout",
     "output_type": "stream",
     "text": [
      "Train loss: 48.887\t\n"
     ]
    },
    {
     "name": "stderr",
     "output_type": "stream",
     "text": [
      "100%|██████████| 2/2 [00:11<00:00,  5.59s/it]\n"
     ]
    },
    {
     "name": "stdout",
     "output_type": "stream",
     "text": [
      "Val loss: 108.299 \t\n",
      "\n",
      "Epoch 2\n"
     ]
    },
    {
     "name": "stderr",
     "output_type": "stream",
     "text": [
      "100%|██████████| 7/7 [02:17<00:00, 19.62s/it]\n"
     ]
    },
    {
     "name": "stdout",
     "output_type": "stream",
     "text": [
      "Train loss: 56.894\t\n"
     ]
    },
    {
     "name": "stderr",
     "output_type": "stream",
     "text": [
      "100%|██████████| 2/2 [00:11<00:00,  5.78s/it]\n"
     ]
    },
    {
     "name": "stdout",
     "output_type": "stream",
     "text": [
      "Val loss: 19.216 \t\n",
      "\n",
      "Epoch 3\n"
     ]
    },
    {
     "name": "stderr",
     "output_type": "stream",
     "text": [
      "100%|██████████| 7/7 [02:14<00:00, 19.20s/it]\n"
     ]
    },
    {
     "name": "stdout",
     "output_type": "stream",
     "text": [
      "Train loss: 49.059\t\n"
     ]
    },
    {
     "name": "stderr",
     "output_type": "stream",
     "text": [
      "100%|██████████| 2/2 [00:10<00:00,  5.03s/it]\n"
     ]
    },
    {
     "name": "stdout",
     "output_type": "stream",
     "text": [
      "Val loss: 15.709 \t\n",
      "\n",
      "Epoch 4\n"
     ]
    },
    {
     "name": "stderr",
     "output_type": "stream",
     "text": [
      "100%|██████████| 7/7 [02:16<00:00, 19.48s/it]\n"
     ]
    },
    {
     "name": "stdout",
     "output_type": "stream",
     "text": [
      "Train loss: 59.301\t\n"
     ]
    },
    {
     "name": "stderr",
     "output_type": "stream",
     "text": [
      "100%|██████████| 2/2 [00:10<00:00,  5.36s/it]\n"
     ]
    },
    {
     "name": "stdout",
     "output_type": "stream",
     "text": [
      "Val loss: 19.635 \t\n",
      "\n",
      "Epoch 5\n"
     ]
    },
    {
     "name": "stderr",
     "output_type": "stream",
     "text": [
      "100%|██████████| 7/7 [02:12<00:00, 18.92s/it]\n"
     ]
    },
    {
     "name": "stdout",
     "output_type": "stream",
     "text": [
      "Train loss: 47.600\t\n"
     ]
    },
    {
     "name": "stderr",
     "output_type": "stream",
     "text": [
      "100%|██████████| 2/2 [00:10<00:00,  5.10s/it]\n"
     ]
    },
    {
     "name": "stdout",
     "output_type": "stream",
     "text": [
      "Val loss: 19.200 \t\n",
      "Finished\n"
     ]
    },
    {
     "data": {
      "image/png": "[encoded data removed]",
      "text/plain": [
       "<Figure size 640x480 with 2 Axes>"
      ]
     },
     "metadata": {},
     "output_type": "display_data"
    }
   ],
   "source": [
    "# Now, use a regression model to predict the number of legos in the image. Use VGG16\n",
    "\n",
    "class RegressionVGG16(nn.Module):\n",
    "    def __init__(self):\n",
    "        super(RegressionVGG16, self).__init__()\n",
    "        self.vgg = models.vgg16(pretrained=True)\n",
    "        self.vgg.classifier[6] = nn.Sequential(\n",
    "            nn.Linear(4096, 512),\n",
    "            nn.ReLU(),\n",
    "            nn.Dropout(0.5),\n",
    "            nn.Linear(512, 1)\n",
    "        )\n",
    "\n",
    "    def forward(self, x):\n",
    "        return self.vgg(x)\n",
    "    \n",
    "model = RegressionVGG16().to(device)\n",
    "print(model)\n",
    "\n",
    "# Train network for 5 epochs\n",
    "num_epochs = 10\n",
    "model_name = 'vgg16_regression'\n",
    "\n",
    "loss_fn = nn.MSELoss()\n",
    "optimizer_vgg = torch.optim.SGD(model.parameters(), lr=0.001)\n",
    "\n",
    "vgg_train_history, vgg_val_history = train(model, model_name, num_epochs, train_dataloader, validation_dataloader, loss_fn, optimizer_vgg)\n",
    "\n",
    "plotTrainingHistory(vgg_train_history, vgg_val_history, stat='mse')"
   ]
  },
  {
   "cell_type": "code",
   "execution_count": null,
   "metadata": {},
   "outputs": [
    {
     "name": "stderr",
     "output_type": "stream",
     "text": [
      "100%|██████████| 2/2 [00:10<00:00,  5.37s/it]\n",
      "/tmp/ipykernel_26698/2052017520.py:14: DeprecationWarning: Conversion of an array with ndim > 0 to a scalar is deprecated, and will error in future. Ensure you extract a single element from your array before performing this operation. (Deprecated NumPy 1.25.)\n",
      "  print(f\"{preds[i]} {int(preds[i])} | {labels[i]},\\t\", end='')\n",
      "/tmp/ipykernel_26698/2052017520.py:24: DeprecationWarning: Conversion of an array with ndim > 0 to a scalar is deprecated, and will error in future. Ensure you extract a single element from your array before performing this operation. (Deprecated NumPy 1.25.)\n",
      "  preds = [round(float(pred))for pred in preds]\n"
     ]
    },
    {
     "name": "stdout",
     "output_type": "stream",
     "text": [
      "\n",
      "Test Loss: 8.237 \n",
      "\n",
      "[1.1117697] 1 | 1.0,\t[1.2157933] 1 | 1.0,\t[1.1271598] 1 | 2.0,\t[0.87557065] 0 | 2.0,\t\n",
      "[1.2621002] 1 | 1.0,\t[0.72557855] 0 | 1.0,\t[0.53387135] 0 | 1.0,\t[1.0227749] 1 | 8.0,\t\n",
      "[0.79581213] 0 | 18.0,\t[1.2710145] 1 | 2.0,\t[1.034588] 1 | 3.0,\t[0.85357934] 0 | 2.0,\t\n",
      "[1.2376949] 1 | 2.0,\t[0.92114615] 0 | 2.0,\t[1.2461452] 1 | 1.0,\t[1.1427402] 1 | 1.0,\t\n",
      "[1.2541769] 1 | 4.0,\t[1.1636269] 1 | 3.0,\t[1.059234] 1 | 2.0,\t[1.062945] 1 | 2.0,\t\n",
      "[1.1892103] 1 | 2.0,\t[1.3027754] 1 | 2.0,\t[1.2591932] 1 | 2.0,\t[1.0882896] 1 | 2.0,\t\n",
      "[1.2959163] 1 | 1.0,\t[0.81045985] 0 | 3.0,\t[0.8316162] 0 | 2.0,\t[1.0496373] 1 | 11.0,\t\n",
      "[0.66607726] 0 | 1.0,\t[0.3718275] 0 | 1.0,\t[1.2491214] 1 | 1.0,\t[0.825168] 0 | 1.0,\t\n",
      "[1.1314474] 1 | 1.0,\t[1.0436891] 1 | 1.0,\t[0.75677454] 0 | 2.0,\t[1.2499447] 1 | 1.0,\t\n",
      "[1.2242178] 1 | 1.0,\t[0.99881494] 0 | 1.0,\t[1.2686944] 1 | 3.0,\t[1.1166043] 1 | 5.0,\t\n",
      "[1.2529604] 1 | 2.0,\t[0.99342746] 0 | 2.0,\t[1.187028] 1 | 2.0,\t[1.1784885] 1 | 1.0,\t\n",
      "[1.0877075] 1 | 2.0,\tHEy\n",
      "[array([1.1117697], dtype=float32), array([1.2157933], dtype=float32), array([1.1271598], dtype=float32), array([0.87557065], dtype=float32), array([1.2621002], dtype=float32), array([0.72557855], dtype=float32), array([0.53387135], dtype=float32), array([1.0227749], dtype=float32), array([0.79581213], dtype=float32), array([1.2710145], dtype=float32), array([1.034588], dtype=float32), array([0.85357934], dtype=float32), array([1.2376949], dtype=float32), array([0.92114615], dtype=float32), array([1.2461452], dtype=float32), array([1.1427402], dtype=float32), array([1.2541769], dtype=float32), array([1.1636269], dtype=float32), array([1.059234], dtype=float32), array([1.062945], dtype=float32), array([1.1892103], dtype=float32), array([1.3027754], dtype=float32), array([1.2591932], dtype=float32), array([1.0882896], dtype=float32), array([1.2959163], dtype=float32), array([0.81045985], dtype=float32), array([0.8316162], dtype=float32), array([1.0496373], dtype=float32), array([0.66607726], dtype=float32), array([0.3718275], dtype=float32), array([1.2491214], dtype=float32), array([0.825168], dtype=float32), array([1.1314474], dtype=float32), array([1.0436891], dtype=float32), array([0.75677454], dtype=float32), array([1.2499447], dtype=float32), array([1.2242178], dtype=float32), array([0.99881494], dtype=float32), array([1.2686944], dtype=float32), array([1.1166043], dtype=float32), array([1.2529604], dtype=float32), array([0.99342746], dtype=float32), array([1.187028], dtype=float32), array([1.1784885], dtype=float32), array([1.0877075], dtype=float32)]\n",
      "HEy2\n",
      "[1.0, 1.0, 2.0, 2.0, 1.0, 1.0, 1.0, 8.0, 18.0, 2.0, 3.0, 2.0, 2.0, 2.0, 1.0, 1.0, 4.0, 3.0, 2.0, 2.0, 2.0, 2.0, 2.0, 2.0, 1.0, 3.0, 2.0, 11.0, 1.0, 1.0, 1.0, 1.0, 1.0, 1.0, 2.0, 1.0, 1.0, 1.0, 3.0, 5.0, 2.0, 2.0, 2.0, 1.0, 2.0]\n",
      "HEy3\n",
      "[[17.  0.  0. ...  0.  0.  1.]\n",
      " [18.  0.  0. ...  0.  0.  0.]\n",
      " [ 4.  0.  0. ...  0.  0.  0.]\n",
      " ...\n",
      " [ 0.  0.  0. ...  0.  0.  0.]\n",
      " [ 0.  0.  0. ...  0.  0.  0.]\n",
      " [ 0.  0.  0. ...  0.  0.  0.]]\n"
     ]
    },
    {
     "data": {
      "image/png": "[encoded data removed]",
      "text/plain": [
       "<Figure size 1200x1200 with 2 Axes>"
      ]
     },
     "metadata": {},
     "output_type": "display_data"
    },
    {
     "name": "stdout",
     "output_type": "stream",
     "text": [
      "Number of errors: 28\n",
      "Total number of images: 45\n",
      "1 | 1,\t\n",
      "1 | 1,\t\n",
      "1 | 2,\t\n",
      "1 | 2,\t\n",
      "1 | 1,\t\n",
      "1 | 1,\t\n",
      "1 | 1,\t\n",
      "1 | 8,\t\n",
      "1 | 18,\t\n",
      "1 | 2,\t\n",
      "1 | 3,\t\n",
      "1 | 2,\t\n",
      "1 | 2,\t\n",
      "1 | 2,\t\n",
      "1 | 1,\t\n",
      "1 | 1,\t\n",
      "1 | 4,\t\n",
      "1 | 3,\t\n",
      "1 | 2,\t\n",
      "1 | 2,\t\n",
      "1 | 2,\t\n",
      "1 | 2,\t\n",
      "1 | 2,\t\n",
      "1 | 2,\t\n",
      "1 | 1,\t\n",
      "1 | 3,\t\n",
      "1 | 2,\t\n",
      "1 | 11,\t\n",
      "1 | 1,\t\n",
      "0 | 1,\t\n",
      "1 | 1,\t\n",
      "1 | 1,\t\n",
      "1 | 1,\t\n",
      "1 | 1,\t\n",
      "1 | 2,\t\n",
      "1 | 1,\t\n",
      "1 | 1,\t\n",
      "1 | 1,\t\n",
      "1 | 3,\t\n",
      "1 | 5,\t\n",
      "1 | 2,\t\n",
      "1 | 2,\t\n",
      "1 | 2,\t\n",
      "1 | 1,\t\n",
      "1 | 2,\t\n"
     ]
    }
   ],
   "source": [
    "# Testing\n",
    "model = RegressionVGG16().to(device)\n",
    "checkpoint = torch.load(DRIVE_ROOT_DIR + \"models/\" + model_name + '_best_model.pth')\n",
    "model.load_state_dict(checkpoint['model'])\n",
    "\n",
    "# Test model\n",
    "preds = []\n",
    "labels = []\n",
    "test_loss = epoch_iter(test_dataloader, model, loss_fn, is_train=False, preds=preds, labels=labels)\n",
    "print(f\"\\nTest Loss: {test_loss:.3f} \\n\")\n",
    "\n",
    "\n",
    "for i in range(len(preds)):\n",
    "    print(f\"{preds[i]} {int(preds[i])} | {labels[i]},\\t\", end='')\n",
    "    if (i+1) % 4 == 0:\n",
    "        print()\n",
    "\n",
    "print(preds)\n",
    "print(labels)\n",
    "\n",
    "# Convert the predictions to integers\n",
    "preds = [round(float(pred))for pred in preds]\n",
    "labels = [round(float(label)) for label in labels]\n",
    "\n",
    "# Confusion matrix with the number in each cell\n",
    "confusion_matrix = buildConfusionMatrix(preds, labels)\n",
    "print(confusion_matrix)\n",
    "# Display confusion matrix\n",
    "display_confusion_matrix(confusion_matrix)\n",
    "\n",
    "# Print How many errors we have\n",
    "errors = 0\n",
    "for i in range(len(preds)):\n",
    "    if preds[i] != labels[i]:\n",
    "        errors += 1\n",
    "print(f\"Number of errors: {errors}\")\n",
    "print(f\"Total number of images: {len(preds)}\")\n",
    "\n",
    "# Show some prediction errors\n",
    "for i in range(len(preds)):\n",
    "    print(f\"{preds[i]} | {labels[i]},\\t\")"
   ]
  }
 ],
 "metadata": {
  "kernelspec": {
   "display_name": "Python 3",
   "language": "python",
   "name": "python3"
  },
  "language_info": {
   "codemirror_mode": {
    "name": "ipython",
    "version": 3
   },
   "file_extension": ".py",
   "mimetype": "text/x-python",
   "name": "python",
   "nbconvert_exporter": "python",
   "pygments_lexer": "ipython3",
   "version": "3.10.12"
  }
 },
 "nbformat": 4,
 "nbformat_minor": 2
}
